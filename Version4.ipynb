{
 "cells": [
  {
   "cell_type": "markdown",
   "metadata": {},
   "source": [
    "# Project Exploration\n",
    "## The Dataset and What we hope to do with it:\n",
    "- The dataset we are using is the concatenated data of the 2015 Human Development Report, taken from Kaggle and developed by the United Nations.\n",
    "- This data includes the average, standard deviation, min, and max of all variables that are a float, which is nice for describing it.\n",
    "- It uses 45 variables that are supposed to describe the development of each of 195 listed countries. \n",
    "- A weird and potentially troublesome thing about this is it doesn't include all countries and has some 'countries' that are not always considered countries by definition. We will thus be taking out the 'countries' that are not recognized by the formal United Nations.\n",
    "- Another issue is that there is a limitation of validity because the numbers are self reported and in some categories absent. We plan to take out some countries for their absence of data (taking out any with more than 10 missing values) and take our results with a grain of salt.\n",
    "\n",
    "Our problem/goal: We hope to be able to use our model to find the GDI (Gender Development Index) from the HDI (Human Development Index) within the MDI (Multidimensional Poverty Index) of any country with our dataset. \n",
    "- We are going to keep the whole concatonated dataset and the MPI dataset seperate because they refer to different countries and we want to make multiple regression models that fit the NaN values between them before combining the dataset.\n",
    "\n",
    "## Descriptive plots and graphs:"
   ]
  },
  {
   "cell_type": "code",
   "execution_count": 288,
   "metadata": {},
   "outputs": [],
   "source": [
    "import pandas as pd\n",
    "import seaborn as sb\n",
    "import matplotlib.pyplot as plt\n",
    "from pandas import read_csv\n",
    "import sklearn\n",
    "import numpy as np\n",
    "from pprint import pprint\n",
    "import math \n",
    "import locale\n",
    "from locale import atof\n",
    "import numpy.random as rn\n",
    "from sklearn.linear_model import LinearRegression\n",
    "from sklearn.linear_model import Ridge\n",
    "from sklearn.linear_model import Lasso\n",
    "\n",
    "\n",
    "locale.setlocale(locale.LC_NUMERIC, '')\n",
    "\n",
    "gd_data = read_csv(\"https://www.dropbox.com/s/upot2a908xz26mn/gender_development.csv?dl=1\")\n",
    "gi_data = read_csv(\"https://www.dropbox.com/s/ensgp6e3chobe5x/gender_inequality.csv?dl=1\")\n",
    "hi_data = read_csv(\"https://www.dropbox.com/s/3u7udv2hlseddcb/historical_index.csv?dl=1\")\n",
    "ia_data = read_csv(\"https://www.dropbox.com/s/t7z4t0dj0ik16vc/inequality_adjusted.csv?dl=1\")\n",
    "hd_data = read_csv(\"https://www.dropbox.com/s/pjijqqsebk9vuwl/human_development.csv?dl=1\")\n",
    "mpi_data = read_csv('https://www.dropbox.com/s/jq78geqaa7qaobs/multidimensional_poverty.csv?dl=1')"
   ]
  },
  {
   "cell_type": "code",
   "execution_count": 289,
   "metadata": {},
   "outputs": [],
   "source": [
    "whole_data = pd.concat([gd_data, gi_data,hd_data,ia_data,hi_data],axis=1,sort=False, copy = True).drop(['HDI Rank',\n",
    "       'Human Development Index (HDI)'], axis =1)"
   ]
  },
  {
   "cell_type": "code",
   "execution_count": 290,
   "metadata": {},
   "outputs": [],
   "source": [
    "whole_data = whole_data.loc[:,~whole_data.columns.duplicated()]"
   ]
  },
  {
   "cell_type": "code",
   "execution_count": 291,
   "metadata": {},
   "outputs": [],
   "source": [
    "for column in whole_data.columns:\n",
    "    for row in whole_data.index: \n",
    "        if whole_data.loc[row,column] == '..':\n",
    "            whole_data.loc[row,column]= np.nan\n",
    "for column in mpi_data.columns:\n",
    "    for row in mpi_data.index: \n",
    "        if mpi_data.loc[row,column] == '..':\n",
    "            mpi_data.loc[row,column]= np.nan"
   ]
  },
  {
   "cell_type": "code",
   "execution_count": 292,
   "metadata": {},
   "outputs": [],
   "source": [
    "whole_data.drop(whole_data.index[188:194], axis =0)\n",
    "whole_data =whole_data.drop(['Income Inequality (Quintile Ratio)','Income Inequality (Palma Rati)', 'Income Inequality (Gini Coefficient)'], axis =1)"
   ]
  },
  {
   "cell_type": "code",
   "execution_count": 293,
   "metadata": {},
   "outputs": [
    {
     "data": {
      "text/html": [
       "<div>\n",
       "<style scoped>\n",
       "    .dataframe tbody tr th:only-of-type {\n",
       "        vertical-align: middle;\n",
       "    }\n",
       "\n",
       "    .dataframe tbody tr th {\n",
       "        vertical-align: top;\n",
       "    }\n",
       "\n",
       "    .dataframe thead th {\n",
       "        text-align: right;\n",
       "    }\n",
       "</style>\n",
       "<table border=\"1\" class=\"dataframe\">\n",
       "  <thead>\n",
       "    <tr style=\"text-align: right;\">\n",
       "      <th></th>\n",
       "      <th>Country</th>\n",
       "      <th>Year and Survey</th>\n",
       "      <th>Multidimensional Poverty Index (MPI, HDRO)</th>\n",
       "      <th>MPI HDRO Percent</th>\n",
       "      <th>Multidimensional Poverty Index (MPI, 2010)</th>\n",
       "      <th>MPI 2010 Percent</th>\n",
       "      <th>Population in Multidimensional Poverty</th>\n",
       "      <th>Intensity of Deprivation</th>\n",
       "      <th>Education Deprivation</th>\n",
       "      <th>Health Deprivation</th>\n",
       "      <th>Living Standards</th>\n",
       "      <th>Population Below National Poverty Line</th>\n",
       "      <th>Population Below $1.25 per Day</th>\n",
       "    </tr>\n",
       "  </thead>\n",
       "  <tbody>\n",
       "    <tr>\n",
       "      <td>0</td>\n",
       "      <td>Afghanistan</td>\n",
       "      <td>2010/2011 M</td>\n",
       "      <td>0.293</td>\n",
       "      <td>58.8</td>\n",
       "      <td>0.353</td>\n",
       "      <td>66.2</td>\n",
       "      <td>17,116</td>\n",
       "      <td>49.9</td>\n",
       "      <td>45.6</td>\n",
       "      <td>19.2</td>\n",
       "      <td>35.2</td>\n",
       "      <td>35.8</td>\n",
       "      <td>NaN</td>\n",
       "    </tr>\n",
       "    <tr>\n",
       "      <td>1</td>\n",
       "      <td>Albania</td>\n",
       "      <td>2008/2009 D</td>\n",
       "      <td>0.005</td>\n",
       "      <td>1.2</td>\n",
       "      <td>0.005</td>\n",
       "      <td>1.4</td>\n",
       "      <td>38</td>\n",
       "      <td>38.3</td>\n",
       "      <td>22.4</td>\n",
       "      <td>47.1</td>\n",
       "      <td>30.5</td>\n",
       "      <td>14.3</td>\n",
       "      <td>0.5</td>\n",
       "    </tr>\n",
       "    <tr>\n",
       "      <td>2</td>\n",
       "      <td>Argentina</td>\n",
       "      <td>2005 N</td>\n",
       "      <td>0.015</td>\n",
       "      <td>3.7</td>\n",
       "      <td>0.011</td>\n",
       "      <td>2.9</td>\n",
       "      <td>1,438</td>\n",
       "      <td>39.1</td>\n",
       "      <td>38.2</td>\n",
       "      <td>27.8</td>\n",
       "      <td>34.0</td>\n",
       "      <td>NaN</td>\n",
       "      <td>1.4</td>\n",
       "    </tr>\n",
       "    <tr>\n",
       "      <td>3</td>\n",
       "      <td>Armenia</td>\n",
       "      <td>2010 D</td>\n",
       "      <td>0.002</td>\n",
       "      <td>0.6</td>\n",
       "      <td>0.001</td>\n",
       "      <td>0.3</td>\n",
       "      <td>18</td>\n",
       "      <td>37.0</td>\n",
       "      <td>3.4</td>\n",
       "      <td>87.8</td>\n",
       "      <td>8.7</td>\n",
       "      <td>32.0</td>\n",
       "      <td>1.8</td>\n",
       "    </tr>\n",
       "    <tr>\n",
       "      <td>4</td>\n",
       "      <td>Azerbaijan</td>\n",
       "      <td>2006 D</td>\n",
       "      <td>0.009</td>\n",
       "      <td>2.4</td>\n",
       "      <td>0.021</td>\n",
       "      <td>5.3</td>\n",
       "      <td>210</td>\n",
       "      <td>38.2</td>\n",
       "      <td>20.0</td>\n",
       "      <td>50.7</td>\n",
       "      <td>29.3</td>\n",
       "      <td>5.3</td>\n",
       "      <td>0.3</td>\n",
       "    </tr>\n",
       "  </tbody>\n",
       "</table>\n",
       "</div>"
      ],
      "text/plain": [
       "       Country Year and Survey  Multidimensional Poverty Index (MPI, HDRO)  \\\n",
       "0  Afghanistan     2010/2011 M                                       0.293   \n",
       "1      Albania     2008/2009 D                                       0.005   \n",
       "2    Argentina          2005 N                                       0.015   \n",
       "3      Armenia          2010 D                                       0.002   \n",
       "4   Azerbaijan          2006 D                                       0.009   \n",
       "\n",
       "   MPI HDRO Percent  Multidimensional Poverty Index (MPI, 2010)  \\\n",
       "0              58.8                                       0.353   \n",
       "1               1.2                                       0.005   \n",
       "2               3.7                                       0.011   \n",
       "3               0.6                                       0.001   \n",
       "4               2.4                                       0.021   \n",
       "\n",
       "   MPI 2010 Percent Population in Multidimensional Poverty  \\\n",
       "0              66.2                                 17,116   \n",
       "1               1.4                                     38   \n",
       "2               2.9                                  1,438   \n",
       "3               0.3                                     18   \n",
       "4               5.3                                    210   \n",
       "\n",
       "   Intensity of Deprivation  Education Deprivation  Health Deprivation  \\\n",
       "0                      49.9                   45.6                19.2   \n",
       "1                      38.3                   22.4                47.1   \n",
       "2                      39.1                   38.2                27.8   \n",
       "3                      37.0                    3.4                87.8   \n",
       "4                      38.2                   20.0                50.7   \n",
       "\n",
       "   Living Standards Population Below National Poverty Line  \\\n",
       "0              35.2                                   35.8   \n",
       "1              30.5                                   14.3   \n",
       "2              34.0                                    NaN   \n",
       "3               8.7                                   32.0   \n",
       "4              29.3                                    5.3   \n",
       "\n",
       "  Population Below $1.25 per Day  \n",
       "0                            NaN  \n",
       "1                            0.5  \n",
       "2                            1.4  \n",
       "3                            1.8  \n",
       "4                            0.3  "
      ]
     },
     "execution_count": 293,
     "metadata": {},
     "output_type": "execute_result"
    }
   ],
   "source": [
    "mpi_data.head()"
   ]
  },
  {
   "cell_type": "code",
   "execution_count": 294,
   "metadata": {},
   "outputs": [
    {
     "name": "stderr",
     "output_type": "stream",
     "text": [
      "C:\\tools\\Anaconda3\\lib\\site-packages\\ipykernel_launcher.py:5: SettingWithCopyWarning: \n",
      "A value is trying to be set on a copy of a slice from a DataFrame\n",
      "\n",
      "See the caveats in the documentation: http://pandas.pydata.org/pandas-docs/stable/user_guide/indexing.html#returning-a-view-versus-a-copy\n",
      "  \"\"\"\n"
     ]
    }
   ],
   "source": [
    "for col in whole_data.columns:\n",
    "    if col != 'Country':\n",
    "        for i in range(len(whole_data[col])):\n",
    "            if type(whole_data[col][i]) not in [np.float64, float] and whole_data[col][i] is not None:\n",
    "                whole_data[col][i] = np.float64(whole_data[col][i].replace(\",\",\"_\"))"
   ]
  },
  {
   "cell_type": "code",
   "execution_count": 295,
   "metadata": {},
   "outputs": [
    {
     "name": "stderr",
     "output_type": "stream",
     "text": [
      "C:\\tools\\Anaconda3\\lib\\site-packages\\ipykernel_launcher.py:5: SettingWithCopyWarning: \n",
      "A value is trying to be set on a copy of a slice from a DataFrame\n",
      "\n",
      "See the caveats in the documentation: http://pandas.pydata.org/pandas-docs/stable/user_guide/indexing.html#returning-a-view-versus-a-copy\n",
      "  \"\"\"\n"
     ]
    }
   ],
   "source": [
    "for col in mpi_data.columns:\n",
    "    if col != 'Country' and col != 'Year and Survey':\n",
    "        for i in range(len(mpi_data[col])):\n",
    "            if type(mpi_data[col][i]) not in [np.float64, float] and mpi_data[col][i] is not None:\n",
    "                mpi_data[col][i] = np.float64(mpi_data[col][i].replace(\",\",\"_\"))"
   ]
  },
  {
   "cell_type": "markdown",
   "metadata": {},
   "source": [
    "# Regression Models for Filling Gaps\n",
    "## Now we need to create regression models to fill in non-existant data points. To do this we must first drop points that have little to no data. \n",
    "- We use the loc feature to find all NaN  points. If there are >10 we will delete th erow to protect the integrity of the model. The following must be removed from the data set\n",
    "\n",
    "- 'Hong Kong, China (SAR)'\n",
    "- 'Liechtenstein'\n",
    "- 'Brunei Darussalam' \n",
    "- 'Andorra' \n",
    "- 'Bahamas'\n",
    "- 'Antigua and Barbuda'\n",
    "- 'Palau'\n",
    "- 'Seychelles' \n",
    "- 'Saint Kitts and Nevis'\n",
    "- 'Grenada'\n",
    "- 'Bosnia and Herzegovina'\n",
    "- 'Dominica'\n",
    "- 'Saint Vincent and the Grenadines'\n",
    "- 'Turkmenistan'\n",
    "- 'Gabon'\n",
    "- 'Viet Nam'\n",
    "- 'Cabo Verde'\n",
    "- 'Micronesia (Federated States of)'\n",
    "- 'Kiribati'\n",
    "- 'Equatorial Guinea'\n",
    "- 'Myanmar'\n",
    "- 'Angola'\n",
    "- 'Solomon Islands'\n",
    "- 'Papua New Guinea'\n",
    "- 'Haiti'\n",
    "- 'Djibouti'\n",
    "- 'Guinea-Bissau'\n",
    "- 'Eritrea'"
   ]
  },
  {
   "cell_type": "code",
   "execution_count": 296,
   "metadata": {},
   "outputs": [],
   "source": [
    "whole_data = whole_data.drop([whole_data.index[11], whole_data.index[12], whole_data.index[30], whole_data.index[33],\n",
    "                 whole_data.index[54], whole_data.index[57] ,whole_data.index[59], whole_data.index[63], whole_data.index[76],\n",
    "                 whole_data.index[78], whole_data.index[86], whole_data.index[93], whole_data.index[97],\n",
    "                 whole_data.index[108], whole_data.index[109], whole_data.index[117], whole_data.index[121],\n",
    "                 whole_data.index[122], whole_data.index[137], whole_data.index[136], whole_data.index[147],\n",
    "                 whole_data.index[148], whole_data.index[156], whole_data.index[157], whole_data.index[162],\n",
    "                 whole_data.index[167], whole_data.index[177], whole_data.index[185]], axis =0)"
   ]
  },
  {
   "cell_type": "code",
   "execution_count": 297,
   "metadata": {},
   "outputs": [],
   "source": [
    "for column in whole_data.columns:\n",
    "    df = whole_data[pd.notna(whole_data.loc[:,column])]\n",
    "    df = df.dropna()"
   ]
  },
  {
   "cell_type": "markdown",
   "metadata": {},
   "source": [
    "## whole_data\n",
    "#### Now we need to find regression models (and test using bootstrapping and cross validation) for:\n",
    "- Inequality in Education                                 \n",
    "- Inequality-Adjusted Education Index                        \n",
    "- Inequality in Income                                       \n",
    "- Inequality-Adjusted Income Index \n",
    "- Inequality-adjusted HDI (IHDI)         \n",
    "- IHDI Loss Percent                                         \n",
    "- IHDI Rank Difference                                      \n",
    "- Coefficient of Human Inequality                           \n",
    "- Inequality in Life Expectancy  \n",
    "\n",
    "##### We will create a vanilla regression, a  ridge regression, and lasso regression models for each to determine the missing values\n",
    "______________________________________________________________________\n",
    "# Functions"
   ]
  },
  {
   "cell_type": "code",
   "execution_count": 298,
   "metadata": {},
   "outputs": [],
   "source": [
    "def createTestTrain(data,labelX,labely):\n",
    "    X = np.atleast_2d(np.array([float(h) for h in data.loc[:, labelX].dropna()])).transpose()\n",
    "    y = np.array(data.loc[:,labely])\n",
    "    n = X.shape[0]\n",
    "    test = int(0.20*n)           \n",
    "    perm = rn.permutation(n)\n",
    "    X = X[perm]\n",
    "    y = y[perm]\n",
    "    X_test = X[:test]      \n",
    "    y_test = y[:test]\n",
    "    X_train = X[test:]     \n",
    "    y_train = y[test:]\n",
    "    return X_test, y_test, X_train, y_train, X, y"
   ]
  },
  {
   "cell_type": "code",
   "execution_count": 299,
   "metadata": {},
   "outputs": [],
   "source": [
    "def crossVal(X,y):  \n",
    "    n = X.shape[0]\n",
    "    test = int(0.20*n)           \n",
    "    perm = rn.permutation(n)   \n",
    "    X = X[perm]\n",
    "    y = y[perm]\n",
    "    R2 = pd.DataFrame( np.array([ [0]*5, [0]*5, [0]*5, [0]*5]).transpose(), columns = ['train_1', 'test_1', 'train_2', 'test_2'])\n",
    "    \n",
    "\n",
    "    for k in range(5):\n",
    "        X_test = X[k*test:(k+1)*test]      \n",
    "        y_test = y[k*test:(k+1)*test]\n",
    "        X_train = np.concatenate( (X[:k*test], X[(k+1)*test:]), axis=0)     \n",
    "        y_train = np.concatenate( (y[:k*test], y[(k+1)*test:]), axis=0)\n",
    "        reg = LinearRegression().fit(X_train, y_train)\n",
    "        reg2 = LinearRegression().fit(X_train[:, 0:6], y_train)\n",
    "\n",
    "        R2.loc[k, 'train_1'] = reg.score(X_train, y_train)\n",
    "        R2.loc[k, 'test_1'] = reg.score(X_test, y_test)\n",
    "        R2.loc[k, 'train_2'] = reg2.score(X_train[:, 0:6], y_train)\n",
    "        R2.loc[k, 'test_2'] = reg2.score(X_test[:, 0:6], y_test)\n",
    "\n",
    "    R2mean = [0]*4\n",
    "    R2std = [0]*4\n",
    "    for c in range(4):\n",
    "        R2mean[c] = np.mean(R2.iloc[0:5, c])\n",
    "        R2std[c] = np.std(R2.iloc[0:5, c])\n",
    "\n",
    "    R2 = R2.append( pd.Series(R2mean, index=R2.columns), ignore_index=True )\n",
    "    R2 = R2.append( pd.Series(R2std, index=R2.columns), ignore_index=True)\n",
    "    R2.index = [0, 1, 2, 3, 4, 'Mean', 'Standard Deviation']\n",
    "    return R2"
   ]
  },
  {
   "cell_type": "code",
   "execution_count": 300,
   "metadata": {},
   "outputs": [],
   "source": [
    "def boots(X,y):\n",
    "    num = 40 \n",
    "    Xboot = [0]*num\n",
    "    yboot = [0]*num\n",
    "\n",
    "    n = X.shape[0]\n",
    "    for k in range(num):\n",
    "        sample = np.random.randint(0, n, n) \n",
    "        Xboot[k] = X[sample, :]\n",
    "        yboot[k] = y[sample]\n",
    "    test = int(0.20*n)\n",
    "    R2 = pd.DataFrame( np.array([ [0]*num]*4).transpose(), columns = ['train_1', 'test_1', 'train_2', 'test_2'])\n",
    "\n",
    "    for k in range(num):\n",
    "        X_test = Xboot[k][:test]\n",
    "        y_test = yboot[k][:test]\n",
    "        X_train = Xboot[k][test:]\n",
    "        y_train = yboot[k][test:]\n",
    "        reg = LinearRegression().fit(X_train, y_train)\n",
    "        reg2 = LinearRegression().fit(X_train[:, 0:6], y_train)\n",
    "\n",
    "        R2.loc[k, 'train_1'] = reg.score(X_train, y_train)\n",
    "        R2.loc[k, 'test_1'] = reg.score(X_test, y_test)\n",
    "        R2.loc[k, 'train_2'] = reg2.score(X_train[:, 0:6], y_train)\n",
    "        R2.loc[k, 'test_2'] = reg2.score(X_test[:, 0:6], y_test)\n",
    "\n",
    "    R2mean = [0]*4\n",
    "    R2std = [0]*4\n",
    "    for c in range(4):\n",
    "        R2mean[c] = np.mean(R2.iloc[0:5, c])\n",
    "        R2std[c] = np.std(R2.iloc[0:5, c])\n",
    "\n",
    "    R2 = R2.append( pd.Series(R2mean, index=R2.columns), ignore_index=True )\n",
    "    R2 = R2.append( pd.Series(R2std, index=R2.columns), ignore_index=True)\n",
    "    R2.index = list(range(num)) + ['Mean', 'Standard Deviation']\n",
    "    return R2.tail(10)"
   ]
  },
  {
   "cell_type": "code",
   "execution_count": 301,
   "metadata": {},
   "outputs": [],
   "source": [
    "def plotfig():\n",
    "    plt.plot(X_train, y_train, 'b.')\n",
    "    plt.plot(X_test, y_test, 'g*')\n",
    "    xx = np.linspace(0, 1.2, 20)\n",
    "    yy = b + m*xx\n",
    "    plt.plot(xx, yy, 'm-')"
   ]
  },
  {
   "cell_type": "code",
   "execution_count": 380,
   "metadata": {},
   "outputs": [],
   "source": [
    "def filldata(data, m, b, index):\n",
    "    ineq = data.columns[index]\n",
    "    for row in range(len(ineq)):\n",
    "        if np.isnan(data.iloc[row,index]):\n",
    "            x = data.iloc[row,44]\n",
    "            data.iloc[row,index] = m*x+b"
   ]
  },
  {
   "cell_type": "code",
   "execution_count": 381,
   "metadata": {},
   "outputs": [],
   "source": [
    "def filldatampi(data, m, b, index):\n",
    "    ineq = data.columns[index]\n",
    "    for row in range(len(ineq)):\n",
    "        if np.isnan(data.iloc[row,index]):\n",
    "            x = data.iloc[row,2]\n",
    "            data.iloc[row,index] = m*x+b"
   ]
  },
  {
   "cell_type": "markdown",
   "metadata": {},
   "source": [
    "### Inequality in Education:"
   ]
  },
  {
   "cell_type": "code",
   "execution_count": 304,
   "metadata": {},
   "outputs": [],
   "source": [
    "X_test, y_test, X_train, y_train, X, y = createTestTrain(df,\"Human Development Index (2014)\",\"Inequality in Education\")"
   ]
  },
  {
   "cell_type": "code",
   "execution_count": 305,
   "metadata": {},
   "outputs": [
    {
     "name": "stdout",
     "output_type": "stream",
     "text": [
      "69.37119946560425 -71.0795877951281\n"
     ]
    },
    {
     "data": {
      "image/png": "[encoded data removed]",
      "text/plain": [
       "<Figure size 432x288 with 1 Axes>"
      ]
     },
     "metadata": {
      "needs_background": "light"
     },
     "output_type": "display_data"
    }
   ],
   "source": [
    "reg = LinearRegression().fit(X_train, y_train)\n",
    "b, m = reg.intercept_, *reg.coef_\n",
    "print(b, m)\n",
    "plotfig()"
   ]
  },
  {
   "cell_type": "code",
   "execution_count": 306,
   "metadata": {},
   "outputs": [],
   "source": [
    "filldata(whole_data,m,b,34)"
   ]
  },
  {
   "cell_type": "code",
   "execution_count": 307,
   "metadata": {},
   "outputs": [
    {
     "data": {
      "text/html": [
       "<div>\n",
       "<style scoped>\n",
       "    .dataframe tbody tr th:only-of-type {\n",
       "        vertical-align: middle;\n",
       "    }\n",
       "\n",
       "    .dataframe tbody tr th {\n",
       "        vertical-align: top;\n",
       "    }\n",
       "\n",
       "    .dataframe thead th {\n",
       "        text-align: right;\n",
       "    }\n",
       "</style>\n",
       "<table border=\"1\" class=\"dataframe\">\n",
       "  <thead>\n",
       "    <tr style=\"text-align: right;\">\n",
       "      <th></th>\n",
       "      <th>train_1</th>\n",
       "      <th>test_1</th>\n",
       "      <th>train_2</th>\n",
       "      <th>test_2</th>\n",
       "    </tr>\n",
       "  </thead>\n",
       "  <tbody>\n",
       "    <tr>\n",
       "      <td>0</td>\n",
       "      <td>0.642242</td>\n",
       "      <td>0.714398</td>\n",
       "      <td>0.642242</td>\n",
       "      <td>0.714398</td>\n",
       "    </tr>\n",
       "    <tr>\n",
       "      <td>1</td>\n",
       "      <td>0.655913</td>\n",
       "      <td>0.572846</td>\n",
       "      <td>0.655913</td>\n",
       "      <td>0.572846</td>\n",
       "    </tr>\n",
       "    <tr>\n",
       "      <td>2</td>\n",
       "      <td>0.647656</td>\n",
       "      <td>0.661271</td>\n",
       "      <td>0.647656</td>\n",
       "      <td>0.661271</td>\n",
       "    </tr>\n",
       "    <tr>\n",
       "      <td>3</td>\n",
       "      <td>0.655173</td>\n",
       "      <td>0.599466</td>\n",
       "      <td>0.655173</td>\n",
       "      <td>0.599466</td>\n",
       "    </tr>\n",
       "    <tr>\n",
       "      <td>4</td>\n",
       "      <td>0.674050</td>\n",
       "      <td>0.517615</td>\n",
       "      <td>0.674050</td>\n",
       "      <td>0.517615</td>\n",
       "    </tr>\n",
       "    <tr>\n",
       "      <td>Mean</td>\n",
       "      <td>0.655007</td>\n",
       "      <td>0.613119</td>\n",
       "      <td>0.655007</td>\n",
       "      <td>0.613119</td>\n",
       "    </tr>\n",
       "    <tr>\n",
       "      <td>Standard Deviation</td>\n",
       "      <td>0.010775</td>\n",
       "      <td>0.068565</td>\n",
       "      <td>0.010775</td>\n",
       "      <td>0.068565</td>\n",
       "    </tr>\n",
       "  </tbody>\n",
       "</table>\n",
       "</div>"
      ],
      "text/plain": [
       "                     train_1    test_1   train_2    test_2\n",
       "0                   0.642242  0.714398  0.642242  0.714398\n",
       "1                   0.655913  0.572846  0.655913  0.572846\n",
       "2                   0.647656  0.661271  0.647656  0.661271\n",
       "3                   0.655173  0.599466  0.655173  0.599466\n",
       "4                   0.674050  0.517615  0.674050  0.517615\n",
       "Mean                0.655007  0.613119  0.655007  0.613119\n",
       "Standard Deviation  0.010775  0.068565  0.010775  0.068565"
      ]
     },
     "execution_count": 307,
     "metadata": {},
     "output_type": "execute_result"
    }
   ],
   "source": [
    "crossVal(X,y) "
   ]
  },
  {
   "cell_type": "code",
   "execution_count": 308,
   "metadata": {},
   "outputs": [
    {
     "data": {
      "text/html": [
       "<div>\n",
       "<style scoped>\n",
       "    .dataframe tbody tr th:only-of-type {\n",
       "        vertical-align: middle;\n",
       "    }\n",
       "\n",
       "    .dataframe tbody tr th {\n",
       "        vertical-align: top;\n",
       "    }\n",
       "\n",
       "    .dataframe thead th {\n",
       "        text-align: right;\n",
       "    }\n",
       "</style>\n",
       "<table border=\"1\" class=\"dataframe\">\n",
       "  <thead>\n",
       "    <tr style=\"text-align: right;\">\n",
       "      <th></th>\n",
       "      <th>train_1</th>\n",
       "      <th>test_1</th>\n",
       "      <th>train_2</th>\n",
       "      <th>test_2</th>\n",
       "    </tr>\n",
       "  </thead>\n",
       "  <tbody>\n",
       "    <tr>\n",
       "      <td>32</td>\n",
       "      <td>0.633570</td>\n",
       "      <td>0.385943</td>\n",
       "      <td>0.633570</td>\n",
       "      <td>0.385943</td>\n",
       "    </tr>\n",
       "    <tr>\n",
       "      <td>33</td>\n",
       "      <td>0.682025</td>\n",
       "      <td>0.519002</td>\n",
       "      <td>0.682025</td>\n",
       "      <td>0.519002</td>\n",
       "    </tr>\n",
       "    <tr>\n",
       "      <td>34</td>\n",
       "      <td>0.734558</td>\n",
       "      <td>0.670638</td>\n",
       "      <td>0.734558</td>\n",
       "      <td>0.670638</td>\n",
       "    </tr>\n",
       "    <tr>\n",
       "      <td>35</td>\n",
       "      <td>0.660318</td>\n",
       "      <td>0.756380</td>\n",
       "      <td>0.660318</td>\n",
       "      <td>0.756380</td>\n",
       "    </tr>\n",
       "    <tr>\n",
       "      <td>36</td>\n",
       "      <td>0.774786</td>\n",
       "      <td>0.425435</td>\n",
       "      <td>0.774786</td>\n",
       "      <td>0.425435</td>\n",
       "    </tr>\n",
       "    <tr>\n",
       "      <td>37</td>\n",
       "      <td>0.673600</td>\n",
       "      <td>0.625009</td>\n",
       "      <td>0.673600</td>\n",
       "      <td>0.625009</td>\n",
       "    </tr>\n",
       "    <tr>\n",
       "      <td>38</td>\n",
       "      <td>0.628236</td>\n",
       "      <td>0.577116</td>\n",
       "      <td>0.628236</td>\n",
       "      <td>0.577116</td>\n",
       "    </tr>\n",
       "    <tr>\n",
       "      <td>39</td>\n",
       "      <td>0.609524</td>\n",
       "      <td>0.680374</td>\n",
       "      <td>0.609524</td>\n",
       "      <td>0.680374</td>\n",
       "    </tr>\n",
       "    <tr>\n",
       "      <td>Mean</td>\n",
       "      <td>0.693014</td>\n",
       "      <td>0.596592</td>\n",
       "      <td>0.693014</td>\n",
       "      <td>0.596592</td>\n",
       "    </tr>\n",
       "    <tr>\n",
       "      <td>Standard Deviation</td>\n",
       "      <td>0.043708</td>\n",
       "      <td>0.094393</td>\n",
       "      <td>0.043708</td>\n",
       "      <td>0.094393</td>\n",
       "    </tr>\n",
       "  </tbody>\n",
       "</table>\n",
       "</div>"
      ],
      "text/plain": [
       "                     train_1    test_1   train_2    test_2\n",
       "32                  0.633570  0.385943  0.633570  0.385943\n",
       "33                  0.682025  0.519002  0.682025  0.519002\n",
       "34                  0.734558  0.670638  0.734558  0.670638\n",
       "35                  0.660318  0.756380  0.660318  0.756380\n",
       "36                  0.774786  0.425435  0.774786  0.425435\n",
       "37                  0.673600  0.625009  0.673600  0.625009\n",
       "38                  0.628236  0.577116  0.628236  0.577116\n",
       "39                  0.609524  0.680374  0.609524  0.680374\n",
       "Mean                0.693014  0.596592  0.693014  0.596592\n",
       "Standard Deviation  0.043708  0.094393  0.043708  0.094393"
      ]
     },
     "execution_count": 308,
     "metadata": {},
     "output_type": "execute_result"
    }
   ],
   "source": [
    "boots(X,y)"
   ]
  },
  {
   "cell_type": "markdown",
   "metadata": {},
   "source": [
    "### Inequality-Adjusted Education Index:"
   ]
  },
  {
   "cell_type": "code",
   "execution_count": 309,
   "metadata": {},
   "outputs": [],
   "source": [
    "X_test, y_test, X_train, y_train, X,y = createTestTrain(df,\"Human Development Index (2014)\",\"Inequality-Adjusted Education Index\")"
   ]
  },
  {
   "cell_type": "code",
   "execution_count": 310,
   "metadata": {},
   "outputs": [
    {
     "name": "stdout",
     "output_type": "stream",
     "text": [
      "-0.35535548887758217 1.278369757204203\n"
     ]
    },
    {
     "data": {
      "image/png": "[encoded data removed]",
      "text/plain": [
       "<Figure size 432x288 with 1 Axes>"
      ]
     },
     "metadata": {
      "needs_background": "light"
     },
     "output_type": "display_data"
    }
   ],
   "source": [
    "reg = LinearRegression().fit(X_train, y_train)\n",
    "b, m = reg.intercept_, *reg.coef_\n",
    "print(b, m)\n",
    "plotfig()"
   ]
  },
  {
   "cell_type": "code",
   "execution_count": 311,
   "metadata": {},
   "outputs": [
    {
     "name": "stdout",
     "output_type": "stream",
     "text": [
      "The training R2: 0.8548290663845988\n",
      "The testing R2: 0.8406358039917599\n"
     ]
    }
   ],
   "source": [
    "print('The training R2: {}'.format(reg.score(X_train, y_train)))\n",
    "print('The testing R2: {}'.format(reg.score(X_test, y_test)))"
   ]
  },
  {
   "cell_type": "code",
   "execution_count": 312,
   "metadata": {},
   "outputs": [],
   "source": [
    "filldata(whole_data,m,b,35)"
   ]
  },
  {
   "cell_type": "code",
   "execution_count": 313,
   "metadata": {},
   "outputs": [
    {
     "data": {
      "text/html": [
       "<div>\n",
       "<style scoped>\n",
       "    .dataframe tbody tr th:only-of-type {\n",
       "        vertical-align: middle;\n",
       "    }\n",
       "\n",
       "    .dataframe tbody tr th {\n",
       "        vertical-align: top;\n",
       "    }\n",
       "\n",
       "    .dataframe thead th {\n",
       "        text-align: right;\n",
       "    }\n",
       "</style>\n",
       "<table border=\"1\" class=\"dataframe\">\n",
       "  <thead>\n",
       "    <tr style=\"text-align: right;\">\n",
       "      <th></th>\n",
       "      <th>train_1</th>\n",
       "      <th>test_1</th>\n",
       "      <th>train_2</th>\n",
       "      <th>test_2</th>\n",
       "    </tr>\n",
       "  </thead>\n",
       "  <tbody>\n",
       "    <tr>\n",
       "      <td>0</td>\n",
       "      <td>0.851805</td>\n",
       "      <td>0.869354</td>\n",
       "      <td>0.851805</td>\n",
       "      <td>0.869354</td>\n",
       "    </tr>\n",
       "    <tr>\n",
       "      <td>1</td>\n",
       "      <td>0.880796</td>\n",
       "      <td>0.620131</td>\n",
       "      <td>0.880796</td>\n",
       "      <td>0.620131</td>\n",
       "    </tr>\n",
       "    <tr>\n",
       "      <td>2</td>\n",
       "      <td>0.831346</td>\n",
       "      <td>0.915369</td>\n",
       "      <td>0.831346</td>\n",
       "      <td>0.915369</td>\n",
       "    </tr>\n",
       "    <tr>\n",
       "      <td>3</td>\n",
       "      <td>0.854368</td>\n",
       "      <td>0.839221</td>\n",
       "      <td>0.854368</td>\n",
       "      <td>0.839221</td>\n",
       "    </tr>\n",
       "    <tr>\n",
       "      <td>4</td>\n",
       "      <td>0.855580</td>\n",
       "      <td>0.843228</td>\n",
       "      <td>0.855580</td>\n",
       "      <td>0.843228</td>\n",
       "    </tr>\n",
       "    <tr>\n",
       "      <td>Mean</td>\n",
       "      <td>0.854779</td>\n",
       "      <td>0.817461</td>\n",
       "      <td>0.854779</td>\n",
       "      <td>0.817461</td>\n",
       "    </tr>\n",
       "    <tr>\n",
       "      <td>Standard Deviation</td>\n",
       "      <td>0.015720</td>\n",
       "      <td>0.102328</td>\n",
       "      <td>0.015720</td>\n",
       "      <td>0.102328</td>\n",
       "    </tr>\n",
       "  </tbody>\n",
       "</table>\n",
       "</div>"
      ],
      "text/plain": [
       "                     train_1    test_1   train_2    test_2\n",
       "0                   0.851805  0.869354  0.851805  0.869354\n",
       "1                   0.880796  0.620131  0.880796  0.620131\n",
       "2                   0.831346  0.915369  0.831346  0.915369\n",
       "3                   0.854368  0.839221  0.854368  0.839221\n",
       "4                   0.855580  0.843228  0.855580  0.843228\n",
       "Mean                0.854779  0.817461  0.854779  0.817461\n",
       "Standard Deviation  0.015720  0.102328  0.015720  0.102328"
      ]
     },
     "execution_count": 313,
     "metadata": {},
     "output_type": "execute_result"
    }
   ],
   "source": [
    "crossVal(X,y)"
   ]
  },
  {
   "cell_type": "code",
   "execution_count": 314,
   "metadata": {},
   "outputs": [
    {
     "data": {
      "text/html": [
       "<div>\n",
       "<style scoped>\n",
       "    .dataframe tbody tr th:only-of-type {\n",
       "        vertical-align: middle;\n",
       "    }\n",
       "\n",
       "    .dataframe tbody tr th {\n",
       "        vertical-align: top;\n",
       "    }\n",
       "\n",
       "    .dataframe thead th {\n",
       "        text-align: right;\n",
       "    }\n",
       "</style>\n",
       "<table border=\"1\" class=\"dataframe\">\n",
       "  <thead>\n",
       "    <tr style=\"text-align: right;\">\n",
       "      <th></th>\n",
       "      <th>train_1</th>\n",
       "      <th>test_1</th>\n",
       "      <th>train_2</th>\n",
       "      <th>test_2</th>\n",
       "    </tr>\n",
       "  </thead>\n",
       "  <tbody>\n",
       "    <tr>\n",
       "      <td>32</td>\n",
       "      <td>0.789460</td>\n",
       "      <td>0.846924</td>\n",
       "      <td>0.789460</td>\n",
       "      <td>0.846924</td>\n",
       "    </tr>\n",
       "    <tr>\n",
       "      <td>33</td>\n",
       "      <td>0.843521</td>\n",
       "      <td>0.742437</td>\n",
       "      <td>0.843521</td>\n",
       "      <td>0.742437</td>\n",
       "    </tr>\n",
       "    <tr>\n",
       "      <td>34</td>\n",
       "      <td>0.877018</td>\n",
       "      <td>0.844591</td>\n",
       "      <td>0.877018</td>\n",
       "      <td>0.844591</td>\n",
       "    </tr>\n",
       "    <tr>\n",
       "      <td>35</td>\n",
       "      <td>0.866988</td>\n",
       "      <td>0.889181</td>\n",
       "      <td>0.866988</td>\n",
       "      <td>0.889181</td>\n",
       "    </tr>\n",
       "    <tr>\n",
       "      <td>36</td>\n",
       "      <td>0.828681</td>\n",
       "      <td>0.853316</td>\n",
       "      <td>0.828681</td>\n",
       "      <td>0.853316</td>\n",
       "    </tr>\n",
       "    <tr>\n",
       "      <td>37</td>\n",
       "      <td>0.884711</td>\n",
       "      <td>0.738588</td>\n",
       "      <td>0.884711</td>\n",
       "      <td>0.738588</td>\n",
       "    </tr>\n",
       "    <tr>\n",
       "      <td>38</td>\n",
       "      <td>0.854128</td>\n",
       "      <td>0.823504</td>\n",
       "      <td>0.854128</td>\n",
       "      <td>0.823504</td>\n",
       "    </tr>\n",
       "    <tr>\n",
       "      <td>39</td>\n",
       "      <td>0.894106</td>\n",
       "      <td>0.795877</td>\n",
       "      <td>0.894106</td>\n",
       "      <td>0.795877</td>\n",
       "    </tr>\n",
       "    <tr>\n",
       "      <td>Mean</td>\n",
       "      <td>0.838026</td>\n",
       "      <td>0.850474</td>\n",
       "      <td>0.838026</td>\n",
       "      <td>0.850474</td>\n",
       "    </tr>\n",
       "    <tr>\n",
       "      <td>Standard Deviation</td>\n",
       "      <td>0.013267</td>\n",
       "      <td>0.043859</td>\n",
       "      <td>0.013267</td>\n",
       "      <td>0.043859</td>\n",
       "    </tr>\n",
       "  </tbody>\n",
       "</table>\n",
       "</div>"
      ],
      "text/plain": [
       "                     train_1    test_1   train_2    test_2\n",
       "32                  0.789460  0.846924  0.789460  0.846924\n",
       "33                  0.843521  0.742437  0.843521  0.742437\n",
       "34                  0.877018  0.844591  0.877018  0.844591\n",
       "35                  0.866988  0.889181  0.866988  0.889181\n",
       "36                  0.828681  0.853316  0.828681  0.853316\n",
       "37                  0.884711  0.738588  0.884711  0.738588\n",
       "38                  0.854128  0.823504  0.854128  0.823504\n",
       "39                  0.894106  0.795877  0.894106  0.795877\n",
       "Mean                0.838026  0.850474  0.838026  0.850474\n",
       "Standard Deviation  0.013267  0.043859  0.013267  0.043859"
      ]
     },
     "execution_count": 314,
     "metadata": {},
     "output_type": "execute_result"
    }
   ],
   "source": [
    "boots(X,y)"
   ]
  },
  {
   "cell_type": "markdown",
   "metadata": {},
   "source": [
    "### Inequality-Adjusted Income Index:"
   ]
  },
  {
   "cell_type": "code",
   "execution_count": 315,
   "metadata": {},
   "outputs": [],
   "source": [
    "X_test, y_test, X_train, y_train, X,y = createTestTrain(df,\"Human Development Index (2014)\",\"Inequality-Adjusted Income Index\")"
   ]
  },
  {
   "cell_type": "code",
   "execution_count": 316,
   "metadata": {},
   "outputs": [
    {
     "name": "stdout",
     "output_type": "stream",
     "text": [
      "-0.1999509047626825 1.0416253344751498\n"
     ]
    },
    {
     "data": {
      "image/png": "[encoded data removed]",
      "text/plain": [
       "<Figure size 432x288 with 1 Axes>"
      ]
     },
     "metadata": {
      "needs_background": "light"
     },
     "output_type": "display_data"
    }
   ],
   "source": [
    "reg = LinearRegression().fit(X_train, y_train)\n",
    "b, m = reg.intercept_, *reg.coef_\n",
    "print(b, m)\n",
    "plotfig()"
   ]
  },
  {
   "cell_type": "code",
   "execution_count": 317,
   "metadata": {},
   "outputs": [
    {
     "name": "stdout",
     "output_type": "stream",
     "text": [
      "The training R2: 0.8544913214325631\n",
      "The testing R2: 0.6135263932827913\n"
     ]
    }
   ],
   "source": [
    "print('The training R2: {}'.format(reg.score(X_train, y_train)))\n",
    "print('The testing R2: {}'.format(reg.score(X_test, y_test)))"
   ]
  },
  {
   "cell_type": "code",
   "execution_count": 318,
   "metadata": {},
   "outputs": [],
   "source": [
    "filldata(whole_data,m,b,37)"
   ]
  },
  {
   "cell_type": "code",
   "execution_count": 319,
   "metadata": {},
   "outputs": [
    {
     "data": {
      "text/html": [
       "<div>\n",
       "<style scoped>\n",
       "    .dataframe tbody tr th:only-of-type {\n",
       "        vertical-align: middle;\n",
       "    }\n",
       "\n",
       "    .dataframe tbody tr th {\n",
       "        vertical-align: top;\n",
       "    }\n",
       "\n",
       "    .dataframe thead th {\n",
       "        text-align: right;\n",
       "    }\n",
       "</style>\n",
       "<table border=\"1\" class=\"dataframe\">\n",
       "  <thead>\n",
       "    <tr style=\"text-align: right;\">\n",
       "      <th></th>\n",
       "      <th>train_1</th>\n",
       "      <th>test_1</th>\n",
       "      <th>train_2</th>\n",
       "      <th>test_2</th>\n",
       "    </tr>\n",
       "  </thead>\n",
       "  <tbody>\n",
       "    <tr>\n",
       "      <td>0</td>\n",
       "      <td>0.811502</td>\n",
       "      <td>0.816326</td>\n",
       "      <td>0.811502</td>\n",
       "      <td>0.816326</td>\n",
       "    </tr>\n",
       "    <tr>\n",
       "      <td>1</td>\n",
       "      <td>0.828182</td>\n",
       "      <td>0.739765</td>\n",
       "      <td>0.828182</td>\n",
       "      <td>0.739765</td>\n",
       "    </tr>\n",
       "    <tr>\n",
       "      <td>2</td>\n",
       "      <td>0.793323</td>\n",
       "      <td>0.874385</td>\n",
       "      <td>0.793323</td>\n",
       "      <td>0.874385</td>\n",
       "    </tr>\n",
       "    <tr>\n",
       "      <td>3</td>\n",
       "      <td>0.835707</td>\n",
       "      <td>0.683068</td>\n",
       "      <td>0.835707</td>\n",
       "      <td>0.683068</td>\n",
       "    </tr>\n",
       "    <tr>\n",
       "      <td>4</td>\n",
       "      <td>0.817585</td>\n",
       "      <td>0.804436</td>\n",
       "      <td>0.817585</td>\n",
       "      <td>0.804436</td>\n",
       "    </tr>\n",
       "    <tr>\n",
       "      <td>Mean</td>\n",
       "      <td>0.817260</td>\n",
       "      <td>0.783596</td>\n",
       "      <td>0.817260</td>\n",
       "      <td>0.783596</td>\n",
       "    </tr>\n",
       "    <tr>\n",
       "      <td>Standard Deviation</td>\n",
       "      <td>0.014600</td>\n",
       "      <td>0.065993</td>\n",
       "      <td>0.014600</td>\n",
       "      <td>0.065993</td>\n",
       "    </tr>\n",
       "  </tbody>\n",
       "</table>\n",
       "</div>"
      ],
      "text/plain": [
       "                     train_1    test_1   train_2    test_2\n",
       "0                   0.811502  0.816326  0.811502  0.816326\n",
       "1                   0.828182  0.739765  0.828182  0.739765\n",
       "2                   0.793323  0.874385  0.793323  0.874385\n",
       "3                   0.835707  0.683068  0.835707  0.683068\n",
       "4                   0.817585  0.804436  0.817585  0.804436\n",
       "Mean                0.817260  0.783596  0.817260  0.783596\n",
       "Standard Deviation  0.014600  0.065993  0.014600  0.065993"
      ]
     },
     "execution_count": 319,
     "metadata": {},
     "output_type": "execute_result"
    }
   ],
   "source": [
    "crossVal(X,y)"
   ]
  },
  {
   "cell_type": "code",
   "execution_count": 320,
   "metadata": {},
   "outputs": [
    {
     "data": {
      "text/html": [
       "<div>\n",
       "<style scoped>\n",
       "    .dataframe tbody tr th:only-of-type {\n",
       "        vertical-align: middle;\n",
       "    }\n",
       "\n",
       "    .dataframe tbody tr th {\n",
       "        vertical-align: top;\n",
       "    }\n",
       "\n",
       "    .dataframe thead th {\n",
       "        text-align: right;\n",
       "    }\n",
       "</style>\n",
       "<table border=\"1\" class=\"dataframe\">\n",
       "  <thead>\n",
       "    <tr style=\"text-align: right;\">\n",
       "      <th></th>\n",
       "      <th>train_1</th>\n",
       "      <th>test_1</th>\n",
       "      <th>train_2</th>\n",
       "      <th>test_2</th>\n",
       "    </tr>\n",
       "  </thead>\n",
       "  <tbody>\n",
       "    <tr>\n",
       "      <td>32</td>\n",
       "      <td>0.767503</td>\n",
       "      <td>0.853418</td>\n",
       "      <td>0.767503</td>\n",
       "      <td>0.853418</td>\n",
       "    </tr>\n",
       "    <tr>\n",
       "      <td>33</td>\n",
       "      <td>0.826158</td>\n",
       "      <td>0.680145</td>\n",
       "      <td>0.826158</td>\n",
       "      <td>0.680145</td>\n",
       "    </tr>\n",
       "    <tr>\n",
       "      <td>34</td>\n",
       "      <td>0.842505</td>\n",
       "      <td>0.769522</td>\n",
       "      <td>0.842505</td>\n",
       "      <td>0.769522</td>\n",
       "    </tr>\n",
       "    <tr>\n",
       "      <td>35</td>\n",
       "      <td>0.830766</td>\n",
       "      <td>0.850110</td>\n",
       "      <td>0.830766</td>\n",
       "      <td>0.850110</td>\n",
       "    </tr>\n",
       "    <tr>\n",
       "      <td>36</td>\n",
       "      <td>0.795569</td>\n",
       "      <td>0.819176</td>\n",
       "      <td>0.795569</td>\n",
       "      <td>0.819176</td>\n",
       "    </tr>\n",
       "    <tr>\n",
       "      <td>37</td>\n",
       "      <td>0.830583</td>\n",
       "      <td>0.810629</td>\n",
       "      <td>0.830583</td>\n",
       "      <td>0.810629</td>\n",
       "    </tr>\n",
       "    <tr>\n",
       "      <td>38</td>\n",
       "      <td>0.806695</td>\n",
       "      <td>0.835103</td>\n",
       "      <td>0.806695</td>\n",
       "      <td>0.835103</td>\n",
       "    </tr>\n",
       "    <tr>\n",
       "      <td>39</td>\n",
       "      <td>0.826804</td>\n",
       "      <td>0.914860</td>\n",
       "      <td>0.826804</td>\n",
       "      <td>0.914860</td>\n",
       "    </tr>\n",
       "    <tr>\n",
       "      <td>Mean</td>\n",
       "      <td>0.811565</td>\n",
       "      <td>0.745664</td>\n",
       "      <td>0.811565</td>\n",
       "      <td>0.745664</td>\n",
       "    </tr>\n",
       "    <tr>\n",
       "      <td>Standard Deviation</td>\n",
       "      <td>0.014812</td>\n",
       "      <td>0.172985</td>\n",
       "      <td>0.014812</td>\n",
       "      <td>0.172985</td>\n",
       "    </tr>\n",
       "  </tbody>\n",
       "</table>\n",
       "</div>"
      ],
      "text/plain": [
       "                     train_1    test_1   train_2    test_2\n",
       "32                  0.767503  0.853418  0.767503  0.853418\n",
       "33                  0.826158  0.680145  0.826158  0.680145\n",
       "34                  0.842505  0.769522  0.842505  0.769522\n",
       "35                  0.830766  0.850110  0.830766  0.850110\n",
       "36                  0.795569  0.819176  0.795569  0.819176\n",
       "37                  0.830583  0.810629  0.830583  0.810629\n",
       "38                  0.806695  0.835103  0.806695  0.835103\n",
       "39                  0.826804  0.914860  0.826804  0.914860\n",
       "Mean                0.811565  0.745664  0.811565  0.745664\n",
       "Standard Deviation  0.014812  0.172985  0.014812  0.172985"
      ]
     },
     "execution_count": 320,
     "metadata": {},
     "output_type": "execute_result"
    }
   ],
   "source": [
    "boots(X,y)"
   ]
  },
  {
   "cell_type": "markdown",
   "metadata": {},
   "source": [
    "### Inequality-adjusted HDI (IHDI):"
   ]
  },
  {
   "cell_type": "code",
   "execution_count": 321,
   "metadata": {},
   "outputs": [],
   "source": [
    "X_test, y_test, X_train, y_train, X, y = createTestTrain(df,\"Human Development Index (2014)\",\"Inequality-adjusted HDI (IHDI)\")"
   ]
  },
  {
   "cell_type": "code",
   "execution_count": 322,
   "metadata": {},
   "outputs": [
    {
     "name": "stdout",
     "output_type": "stream",
     "text": [
      "-0.24813383637072495 1.170712540965926\n"
     ]
    },
    {
     "data": {
      "image/png": "[encoded data removed]",
      "text/plain": [
       "<Figure size 432x288 with 1 Axes>"
      ]
     },
     "metadata": {
      "needs_background": "light"
     },
     "output_type": "display_data"
    }
   ],
   "source": [
    "reg = LinearRegression().fit(X_train, y_train)\n",
    "b, m = reg.intercept_, *reg.coef_\n",
    "print(b, m)\n",
    "plotfig()"
   ]
  },
  {
   "cell_type": "code",
   "execution_count": 323,
   "metadata": {},
   "outputs": [
    {
     "name": "stdout",
     "output_type": "stream",
     "text": [
      "The training R2: 0.9609370520231372\n",
      "The testing R2: 0.9250026601878651\n"
     ]
    }
   ],
   "source": [
    "print('The training R2: {}'.format(reg.score(X_train, y_train)))\n",
    "print('The testing R2: {}'.format(reg.score(X_test, y_test)))"
   ]
  },
  {
   "cell_type": "code",
   "execution_count": 324,
   "metadata": {},
   "outputs": [],
   "source": [
    "filldata(whole_data,m,b,28)"
   ]
  },
  {
   "cell_type": "code",
   "execution_count": 325,
   "metadata": {},
   "outputs": [
    {
     "data": {
      "text/html": [
       "<div>\n",
       "<style scoped>\n",
       "    .dataframe tbody tr th:only-of-type {\n",
       "        vertical-align: middle;\n",
       "    }\n",
       "\n",
       "    .dataframe tbody tr th {\n",
       "        vertical-align: top;\n",
       "    }\n",
       "\n",
       "    .dataframe thead th {\n",
       "        text-align: right;\n",
       "    }\n",
       "</style>\n",
       "<table border=\"1\" class=\"dataframe\">\n",
       "  <thead>\n",
       "    <tr style=\"text-align: right;\">\n",
       "      <th></th>\n",
       "      <th>train_1</th>\n",
       "      <th>test_1</th>\n",
       "      <th>train_2</th>\n",
       "      <th>test_2</th>\n",
       "    </tr>\n",
       "  </thead>\n",
       "  <tbody>\n",
       "    <tr>\n",
       "      <td>0</td>\n",
       "      <td>0.953739</td>\n",
       "      <td>0.958969</td>\n",
       "      <td>0.953739</td>\n",
       "      <td>0.958969</td>\n",
       "    </tr>\n",
       "    <tr>\n",
       "      <td>1</td>\n",
       "      <td>0.954201</td>\n",
       "      <td>0.960906</td>\n",
       "      <td>0.954201</td>\n",
       "      <td>0.960906</td>\n",
       "    </tr>\n",
       "    <tr>\n",
       "      <td>2</td>\n",
       "      <td>0.958994</td>\n",
       "      <td>0.936445</td>\n",
       "      <td>0.958994</td>\n",
       "      <td>0.936445</td>\n",
       "    </tr>\n",
       "    <tr>\n",
       "      <td>3</td>\n",
       "      <td>0.962628</td>\n",
       "      <td>0.897073</td>\n",
       "      <td>0.962628</td>\n",
       "      <td>0.897073</td>\n",
       "    </tr>\n",
       "    <tr>\n",
       "      <td>4</td>\n",
       "      <td>0.947747</td>\n",
       "      <td>0.972636</td>\n",
       "      <td>0.947747</td>\n",
       "      <td>0.972636</td>\n",
       "    </tr>\n",
       "    <tr>\n",
       "      <td>Mean</td>\n",
       "      <td>0.955462</td>\n",
       "      <td>0.945206</td>\n",
       "      <td>0.955462</td>\n",
       "      <td>0.945206</td>\n",
       "    </tr>\n",
       "    <tr>\n",
       "      <td>Standard Deviation</td>\n",
       "      <td>0.005058</td>\n",
       "      <td>0.026765</td>\n",
       "      <td>0.005058</td>\n",
       "      <td>0.026765</td>\n",
       "    </tr>\n",
       "  </tbody>\n",
       "</table>\n",
       "</div>"
      ],
      "text/plain": [
       "                     train_1    test_1   train_2    test_2\n",
       "0                   0.953739  0.958969  0.953739  0.958969\n",
       "1                   0.954201  0.960906  0.954201  0.960906\n",
       "2                   0.958994  0.936445  0.958994  0.936445\n",
       "3                   0.962628  0.897073  0.962628  0.897073\n",
       "4                   0.947747  0.972636  0.947747  0.972636\n",
       "Mean                0.955462  0.945206  0.955462  0.945206\n",
       "Standard Deviation  0.005058  0.026765  0.005058  0.026765"
      ]
     },
     "execution_count": 325,
     "metadata": {},
     "output_type": "execute_result"
    }
   ],
   "source": [
    "crossVal(X,y)"
   ]
  },
  {
   "cell_type": "code",
   "execution_count": 326,
   "metadata": {},
   "outputs": [
    {
     "data": {
      "text/html": [
       "<div>\n",
       "<style scoped>\n",
       "    .dataframe tbody tr th:only-of-type {\n",
       "        vertical-align: middle;\n",
       "    }\n",
       "\n",
       "    .dataframe tbody tr th {\n",
       "        vertical-align: top;\n",
       "    }\n",
       "\n",
       "    .dataframe thead th {\n",
       "        text-align: right;\n",
       "    }\n",
       "</style>\n",
       "<table border=\"1\" class=\"dataframe\">\n",
       "  <thead>\n",
       "    <tr style=\"text-align: right;\">\n",
       "      <th></th>\n",
       "      <th>train_1</th>\n",
       "      <th>test_1</th>\n",
       "      <th>train_2</th>\n",
       "      <th>test_2</th>\n",
       "    </tr>\n",
       "  </thead>\n",
       "  <tbody>\n",
       "    <tr>\n",
       "      <td>32</td>\n",
       "      <td>0.953309</td>\n",
       "      <td>0.916750</td>\n",
       "      <td>0.953309</td>\n",
       "      <td>0.916750</td>\n",
       "    </tr>\n",
       "    <tr>\n",
       "      <td>33</td>\n",
       "      <td>0.960776</td>\n",
       "      <td>0.962143</td>\n",
       "      <td>0.960776</td>\n",
       "      <td>0.962143</td>\n",
       "    </tr>\n",
       "    <tr>\n",
       "      <td>34</td>\n",
       "      <td>0.947246</td>\n",
       "      <td>0.936750</td>\n",
       "      <td>0.947246</td>\n",
       "      <td>0.936750</td>\n",
       "    </tr>\n",
       "    <tr>\n",
       "      <td>35</td>\n",
       "      <td>0.935634</td>\n",
       "      <td>0.947356</td>\n",
       "      <td>0.935634</td>\n",
       "      <td>0.947356</td>\n",
       "    </tr>\n",
       "    <tr>\n",
       "      <td>36</td>\n",
       "      <td>0.959919</td>\n",
       "      <td>0.911765</td>\n",
       "      <td>0.959919</td>\n",
       "      <td>0.911765</td>\n",
       "    </tr>\n",
       "    <tr>\n",
       "      <td>37</td>\n",
       "      <td>0.953734</td>\n",
       "      <td>0.985139</td>\n",
       "      <td>0.953734</td>\n",
       "      <td>0.985139</td>\n",
       "    </tr>\n",
       "    <tr>\n",
       "      <td>38</td>\n",
       "      <td>0.963895</td>\n",
       "      <td>0.953749</td>\n",
       "      <td>0.963895</td>\n",
       "      <td>0.953749</td>\n",
       "    </tr>\n",
       "    <tr>\n",
       "      <td>39</td>\n",
       "      <td>0.963253</td>\n",
       "      <td>0.944104</td>\n",
       "      <td>0.963253</td>\n",
       "      <td>0.944104</td>\n",
       "    </tr>\n",
       "    <tr>\n",
       "      <td>Mean</td>\n",
       "      <td>0.952428</td>\n",
       "      <td>0.951806</td>\n",
       "      <td>0.952428</td>\n",
       "      <td>0.951806</td>\n",
       "    </tr>\n",
       "    <tr>\n",
       "      <td>Standard Deviation</td>\n",
       "      <td>0.005733</td>\n",
       "      <td>0.010430</td>\n",
       "      <td>0.005733</td>\n",
       "      <td>0.010430</td>\n",
       "    </tr>\n",
       "  </tbody>\n",
       "</table>\n",
       "</div>"
      ],
      "text/plain": [
       "                     train_1    test_1   train_2    test_2\n",
       "32                  0.953309  0.916750  0.953309  0.916750\n",
       "33                  0.960776  0.962143  0.960776  0.962143\n",
       "34                  0.947246  0.936750  0.947246  0.936750\n",
       "35                  0.935634  0.947356  0.935634  0.947356\n",
       "36                  0.959919  0.911765  0.959919  0.911765\n",
       "37                  0.953734  0.985139  0.953734  0.985139\n",
       "38                  0.963895  0.953749  0.963895  0.953749\n",
       "39                  0.963253  0.944104  0.963253  0.944104\n",
       "Mean                0.952428  0.951806  0.952428  0.951806\n",
       "Standard Deviation  0.005733  0.010430  0.005733  0.010430"
      ]
     },
     "execution_count": 326,
     "metadata": {},
     "output_type": "execute_result"
    }
   ],
   "source": [
    "boots(X,y)"
   ]
  },
  {
   "cell_type": "markdown",
   "metadata": {},
   "source": [
    "### IHDI Loss Percent:"
   ]
  },
  {
   "cell_type": "code",
   "execution_count": 327,
   "metadata": {},
   "outputs": [],
   "source": [
    "X_test, y_test, X_train, y_train, X, y = createTestTrain(df,\"Human Development Index (2014)\",\"IHDI Loss Percent\")"
   ]
  },
  {
   "cell_type": "code",
   "execution_count": 328,
   "metadata": {},
   "outputs": [
    {
     "name": "stdout",
     "output_type": "stream",
     "text": [
      "62.77726738114752 -60.37814525370304\n"
     ]
    },
    {
     "data": {
      "image/png": "[encoded data removed]",
      "text/plain": [
       "<Figure size 432x288 with 1 Axes>"
      ]
     },
     "metadata": {
      "needs_background": "light"
     },
     "output_type": "display_data"
    }
   ],
   "source": [
    "reg = LinearRegression().fit(X_train, y_train)\n",
    "b, m = reg.intercept_, *reg.coef_\n",
    "print(b, m)\n",
    "plotfig()"
   ]
  },
  {
   "cell_type": "code",
   "execution_count": 329,
   "metadata": {},
   "outputs": [
    {
     "name": "stdout",
     "output_type": "stream",
     "text": [
      "The training R2: 0.7549487885776806\n",
      "The testing R2: 0.7596674508349154\n"
     ]
    }
   ],
   "source": [
    "print('The training R2: {}'.format(reg.score(X_train, y_train)))\n",
    "print('The testing R2: {}'.format(reg.score(X_test, y_test)))"
   ]
  },
  {
   "cell_type": "code",
   "execution_count": 330,
   "metadata": {},
   "outputs": [],
   "source": [
    "filldata(whole_data,m,b,29)"
   ]
  },
  {
   "cell_type": "code",
   "execution_count": 331,
   "metadata": {},
   "outputs": [
    {
     "data": {
      "text/html": [
       "<div>\n",
       "<style scoped>\n",
       "    .dataframe tbody tr th:only-of-type {\n",
       "        vertical-align: middle;\n",
       "    }\n",
       "\n",
       "    .dataframe tbody tr th {\n",
       "        vertical-align: top;\n",
       "    }\n",
       "\n",
       "    .dataframe thead th {\n",
       "        text-align: right;\n",
       "    }\n",
       "</style>\n",
       "<table border=\"1\" class=\"dataframe\">\n",
       "  <thead>\n",
       "    <tr style=\"text-align: right;\">\n",
       "      <th></th>\n",
       "      <th>train_1</th>\n",
       "      <th>test_1</th>\n",
       "      <th>train_2</th>\n",
       "      <th>test_2</th>\n",
       "    </tr>\n",
       "  </thead>\n",
       "  <tbody>\n",
       "    <tr>\n",
       "      <td>0</td>\n",
       "      <td>0.718676</td>\n",
       "      <td>0.890985</td>\n",
       "      <td>0.718676</td>\n",
       "      <td>0.890985</td>\n",
       "    </tr>\n",
       "    <tr>\n",
       "      <td>1</td>\n",
       "      <td>0.726640</td>\n",
       "      <td>0.843816</td>\n",
       "      <td>0.726640</td>\n",
       "      <td>0.843816</td>\n",
       "    </tr>\n",
       "    <tr>\n",
       "      <td>2</td>\n",
       "      <td>0.773643</td>\n",
       "      <td>0.643876</td>\n",
       "      <td>0.773643</td>\n",
       "      <td>0.643876</td>\n",
       "    </tr>\n",
       "    <tr>\n",
       "      <td>3</td>\n",
       "      <td>0.785271</td>\n",
       "      <td>0.629105</td>\n",
       "      <td>0.785271</td>\n",
       "      <td>0.629105</td>\n",
       "    </tr>\n",
       "    <tr>\n",
       "      <td>4</td>\n",
       "      <td>0.783158</td>\n",
       "      <td>0.613130</td>\n",
       "      <td>0.783158</td>\n",
       "      <td>0.613130</td>\n",
       "    </tr>\n",
       "    <tr>\n",
       "      <td>Mean</td>\n",
       "      <td>0.757478</td>\n",
       "      <td>0.724182</td>\n",
       "      <td>0.757478</td>\n",
       "      <td>0.724182</td>\n",
       "    </tr>\n",
       "    <tr>\n",
       "      <td>Standard Deviation</td>\n",
       "      <td>0.028809</td>\n",
       "      <td>0.118285</td>\n",
       "      <td>0.028809</td>\n",
       "      <td>0.118285</td>\n",
       "    </tr>\n",
       "  </tbody>\n",
       "</table>\n",
       "</div>"
      ],
      "text/plain": [
       "                     train_1    test_1   train_2    test_2\n",
       "0                   0.718676  0.890985  0.718676  0.890985\n",
       "1                   0.726640  0.843816  0.726640  0.843816\n",
       "2                   0.773643  0.643876  0.773643  0.643876\n",
       "3                   0.785271  0.629105  0.785271  0.629105\n",
       "4                   0.783158  0.613130  0.783158  0.613130\n",
       "Mean                0.757478  0.724182  0.757478  0.724182\n",
       "Standard Deviation  0.028809  0.118285  0.028809  0.118285"
      ]
     },
     "execution_count": 331,
     "metadata": {},
     "output_type": "execute_result"
    }
   ],
   "source": [
    "crossVal(X,y)"
   ]
  },
  {
   "cell_type": "code",
   "execution_count": 332,
   "metadata": {},
   "outputs": [
    {
     "data": {
      "text/html": [
       "<div>\n",
       "<style scoped>\n",
       "    .dataframe tbody tr th:only-of-type {\n",
       "        vertical-align: middle;\n",
       "    }\n",
       "\n",
       "    .dataframe tbody tr th {\n",
       "        vertical-align: top;\n",
       "    }\n",
       "\n",
       "    .dataframe thead th {\n",
       "        text-align: right;\n",
       "    }\n",
       "</style>\n",
       "<table border=\"1\" class=\"dataframe\">\n",
       "  <thead>\n",
       "    <tr style=\"text-align: right;\">\n",
       "      <th></th>\n",
       "      <th>train_1</th>\n",
       "      <th>test_1</th>\n",
       "      <th>train_2</th>\n",
       "      <th>test_2</th>\n",
       "    </tr>\n",
       "  </thead>\n",
       "  <tbody>\n",
       "    <tr>\n",
       "      <td>32</td>\n",
       "      <td>0.774084</td>\n",
       "      <td>0.662695</td>\n",
       "      <td>0.774084</td>\n",
       "      <td>0.662695</td>\n",
       "    </tr>\n",
       "    <tr>\n",
       "      <td>33</td>\n",
       "      <td>0.706583</td>\n",
       "      <td>0.683429</td>\n",
       "      <td>0.706583</td>\n",
       "      <td>0.683429</td>\n",
       "    </tr>\n",
       "    <tr>\n",
       "      <td>34</td>\n",
       "      <td>0.800756</td>\n",
       "      <td>0.669566</td>\n",
       "      <td>0.800756</td>\n",
       "      <td>0.669566</td>\n",
       "    </tr>\n",
       "    <tr>\n",
       "      <td>35</td>\n",
       "      <td>0.731965</td>\n",
       "      <td>0.451803</td>\n",
       "      <td>0.731965</td>\n",
       "      <td>0.451803</td>\n",
       "    </tr>\n",
       "    <tr>\n",
       "      <td>36</td>\n",
       "      <td>0.762427</td>\n",
       "      <td>0.806781</td>\n",
       "      <td>0.762427</td>\n",
       "      <td>0.806781</td>\n",
       "    </tr>\n",
       "    <tr>\n",
       "      <td>37</td>\n",
       "      <td>0.726597</td>\n",
       "      <td>0.597562</td>\n",
       "      <td>0.726597</td>\n",
       "      <td>0.597562</td>\n",
       "    </tr>\n",
       "    <tr>\n",
       "      <td>38</td>\n",
       "      <td>0.812165</td>\n",
       "      <td>0.770319</td>\n",
       "      <td>0.812165</td>\n",
       "      <td>0.770319</td>\n",
       "    </tr>\n",
       "    <tr>\n",
       "      <td>39</td>\n",
       "      <td>0.755891</td>\n",
       "      <td>0.747890</td>\n",
       "      <td>0.755891</td>\n",
       "      <td>0.747890</td>\n",
       "    </tr>\n",
       "    <tr>\n",
       "      <td>Mean</td>\n",
       "      <td>0.787310</td>\n",
       "      <td>0.766949</td>\n",
       "      <td>0.787310</td>\n",
       "      <td>0.766949</td>\n",
       "    </tr>\n",
       "    <tr>\n",
       "      <td>Standard Deviation</td>\n",
       "      <td>0.054237</td>\n",
       "      <td>0.055744</td>\n",
       "      <td>0.054237</td>\n",
       "      <td>0.055744</td>\n",
       "    </tr>\n",
       "  </tbody>\n",
       "</table>\n",
       "</div>"
      ],
      "text/plain": [
       "                     train_1    test_1   train_2    test_2\n",
       "32                  0.774084  0.662695  0.774084  0.662695\n",
       "33                  0.706583  0.683429  0.706583  0.683429\n",
       "34                  0.800756  0.669566  0.800756  0.669566\n",
       "35                  0.731965  0.451803  0.731965  0.451803\n",
       "36                  0.762427  0.806781  0.762427  0.806781\n",
       "37                  0.726597  0.597562  0.726597  0.597562\n",
       "38                  0.812165  0.770319  0.812165  0.770319\n",
       "39                  0.755891  0.747890  0.755891  0.747890\n",
       "Mean                0.787310  0.766949  0.787310  0.766949\n",
       "Standard Deviation  0.054237  0.055744  0.054237  0.055744"
      ]
     },
     "execution_count": 332,
     "metadata": {},
     "output_type": "execute_result"
    }
   ],
   "source": [
    "boots(X,y)"
   ]
  },
  {
   "cell_type": "markdown",
   "metadata": {},
   "source": [
    "### Coefficient of Human Inequality:"
   ]
  },
  {
   "cell_type": "code",
   "execution_count": 333,
   "metadata": {},
   "outputs": [],
   "source": [
    "X_test, y_test, X_train, y_train,X, y = createTestTrain(df,\"Human Development Index (2014)\",\"Coefficient of Human Inequality\")"
   ]
  },
  {
   "cell_type": "code",
   "execution_count": 334,
   "metadata": {},
   "outputs": [
    {
     "name": "stdout",
     "output_type": "stream",
     "text": [
      "59.513104890535644 -56.51065390982653\n"
     ]
    },
    {
     "data": {
      "image/png": "[encoded data removed]",
      "text/plain": [
       "<Figure size 432x288 with 1 Axes>"
      ]
     },
     "metadata": {
      "needs_background": "light"
     },
     "output_type": "display_data"
    }
   ],
   "source": [
    "reg = LinearRegression().fit(X_train, y_train)\n",
    "b, m = reg.intercept_, *reg.coef_\n",
    "print(b, m)\n",
    "plotfig()"
   ]
  },
  {
   "cell_type": "code",
   "execution_count": 335,
   "metadata": {},
   "outputs": [
    {
     "name": "stdout",
     "output_type": "stream",
     "text": [
      "The training R2: 0.7757037403788303\n",
      "The testing R2: 0.7524976860131\n"
     ]
    }
   ],
   "source": [
    "print('The training R2: {}'.format(reg.score(X_train, y_train)))\n",
    "print('The testing R2: {}'.format(reg.score(X_test, y_test)))"
   ]
  },
  {
   "cell_type": "code",
   "execution_count": 336,
   "metadata": {},
   "outputs": [],
   "source": [
    "filldata(whole_data,m,b,31)"
   ]
  },
  {
   "cell_type": "code",
   "execution_count": 337,
   "metadata": {},
   "outputs": [
    {
     "data": {
      "text/html": [
       "<div>\n",
       "<style scoped>\n",
       "    .dataframe tbody tr th:only-of-type {\n",
       "        vertical-align: middle;\n",
       "    }\n",
       "\n",
       "    .dataframe tbody tr th {\n",
       "        vertical-align: top;\n",
       "    }\n",
       "\n",
       "    .dataframe thead th {\n",
       "        text-align: right;\n",
       "    }\n",
       "</style>\n",
       "<table border=\"1\" class=\"dataframe\">\n",
       "  <thead>\n",
       "    <tr style=\"text-align: right;\">\n",
       "      <th></th>\n",
       "      <th>train_1</th>\n",
       "      <th>test_1</th>\n",
       "      <th>train_2</th>\n",
       "      <th>test_2</th>\n",
       "    </tr>\n",
       "  </thead>\n",
       "  <tbody>\n",
       "    <tr>\n",
       "      <td>0</td>\n",
       "      <td>0.765854</td>\n",
       "      <td>0.811540</td>\n",
       "      <td>0.765854</td>\n",
       "      <td>0.811540</td>\n",
       "    </tr>\n",
       "    <tr>\n",
       "      <td>1</td>\n",
       "      <td>0.767405</td>\n",
       "      <td>0.800674</td>\n",
       "      <td>0.767405</td>\n",
       "      <td>0.800674</td>\n",
       "    </tr>\n",
       "    <tr>\n",
       "      <td>2</td>\n",
       "      <td>0.733528</td>\n",
       "      <td>0.913448</td>\n",
       "      <td>0.733528</td>\n",
       "      <td>0.913448</td>\n",
       "    </tr>\n",
       "    <tr>\n",
       "      <td>3</td>\n",
       "      <td>0.811326</td>\n",
       "      <td>0.614681</td>\n",
       "      <td>0.811326</td>\n",
       "      <td>0.614681</td>\n",
       "    </tr>\n",
       "    <tr>\n",
       "      <td>4</td>\n",
       "      <td>0.790851</td>\n",
       "      <td>0.688374</td>\n",
       "      <td>0.790851</td>\n",
       "      <td>0.688374</td>\n",
       "    </tr>\n",
       "    <tr>\n",
       "      <td>Mean</td>\n",
       "      <td>0.773793</td>\n",
       "      <td>0.765743</td>\n",
       "      <td>0.773793</td>\n",
       "      <td>0.765743</td>\n",
       "    </tr>\n",
       "    <tr>\n",
       "      <td>Standard Deviation</td>\n",
       "      <td>0.026172</td>\n",
       "      <td>0.103865</td>\n",
       "      <td>0.026172</td>\n",
       "      <td>0.103865</td>\n",
       "    </tr>\n",
       "  </tbody>\n",
       "</table>\n",
       "</div>"
      ],
      "text/plain": [
       "                     train_1    test_1   train_2    test_2\n",
       "0                   0.765854  0.811540  0.765854  0.811540\n",
       "1                   0.767405  0.800674  0.767405  0.800674\n",
       "2                   0.733528  0.913448  0.733528  0.913448\n",
       "3                   0.811326  0.614681  0.811326  0.614681\n",
       "4                   0.790851  0.688374  0.790851  0.688374\n",
       "Mean                0.773793  0.765743  0.773793  0.765743\n",
       "Standard Deviation  0.026172  0.103865  0.026172  0.103865"
      ]
     },
     "execution_count": 337,
     "metadata": {},
     "output_type": "execute_result"
    }
   ],
   "source": [
    "crossVal(X,y)"
   ]
  },
  {
   "cell_type": "code",
   "execution_count": 338,
   "metadata": {},
   "outputs": [
    {
     "data": {
      "text/html": [
       "<div>\n",
       "<style scoped>\n",
       "    .dataframe tbody tr th:only-of-type {\n",
       "        vertical-align: middle;\n",
       "    }\n",
       "\n",
       "    .dataframe tbody tr th {\n",
       "        vertical-align: top;\n",
       "    }\n",
       "\n",
       "    .dataframe thead th {\n",
       "        text-align: right;\n",
       "    }\n",
       "</style>\n",
       "<table border=\"1\" class=\"dataframe\">\n",
       "  <thead>\n",
       "    <tr style=\"text-align: right;\">\n",
       "      <th></th>\n",
       "      <th>train_1</th>\n",
       "      <th>test_1</th>\n",
       "      <th>train_2</th>\n",
       "      <th>test_2</th>\n",
       "    </tr>\n",
       "  </thead>\n",
       "  <tbody>\n",
       "    <tr>\n",
       "      <td>32</td>\n",
       "      <td>0.782167</td>\n",
       "      <td>0.666613</td>\n",
       "      <td>0.782167</td>\n",
       "      <td>0.666613</td>\n",
       "    </tr>\n",
       "    <tr>\n",
       "      <td>33</td>\n",
       "      <td>0.777147</td>\n",
       "      <td>0.663709</td>\n",
       "      <td>0.777147</td>\n",
       "      <td>0.663709</td>\n",
       "    </tr>\n",
       "    <tr>\n",
       "      <td>34</td>\n",
       "      <td>0.804723</td>\n",
       "      <td>0.832781</td>\n",
       "      <td>0.804723</td>\n",
       "      <td>0.832781</td>\n",
       "    </tr>\n",
       "    <tr>\n",
       "      <td>35</td>\n",
       "      <td>0.859120</td>\n",
       "      <td>0.880110</td>\n",
       "      <td>0.859120</td>\n",
       "      <td>0.880110</td>\n",
       "    </tr>\n",
       "    <tr>\n",
       "      <td>36</td>\n",
       "      <td>0.803663</td>\n",
       "      <td>0.649159</td>\n",
       "      <td>0.803663</td>\n",
       "      <td>0.649159</td>\n",
       "    </tr>\n",
       "    <tr>\n",
       "      <td>37</td>\n",
       "      <td>0.761803</td>\n",
       "      <td>0.749854</td>\n",
       "      <td>0.761803</td>\n",
       "      <td>0.749854</td>\n",
       "    </tr>\n",
       "    <tr>\n",
       "      <td>38</td>\n",
       "      <td>0.861107</td>\n",
       "      <td>0.877069</td>\n",
       "      <td>0.861107</td>\n",
       "      <td>0.877069</td>\n",
       "    </tr>\n",
       "    <tr>\n",
       "      <td>39</td>\n",
       "      <td>0.767639</td>\n",
       "      <td>0.659261</td>\n",
       "      <td>0.767639</td>\n",
       "      <td>0.659261</td>\n",
       "    </tr>\n",
       "    <tr>\n",
       "      <td>Mean</td>\n",
       "      <td>0.787412</td>\n",
       "      <td>0.802835</td>\n",
       "      <td>0.787412</td>\n",
       "      <td>0.802835</td>\n",
       "    </tr>\n",
       "    <tr>\n",
       "      <td>Standard Deviation</td>\n",
       "      <td>0.026016</td>\n",
       "      <td>0.079718</td>\n",
       "      <td>0.026016</td>\n",
       "      <td>0.079718</td>\n",
       "    </tr>\n",
       "  </tbody>\n",
       "</table>\n",
       "</div>"
      ],
      "text/plain": [
       "                     train_1    test_1   train_2    test_2\n",
       "32                  0.782167  0.666613  0.782167  0.666613\n",
       "33                  0.777147  0.663709  0.777147  0.663709\n",
       "34                  0.804723  0.832781  0.804723  0.832781\n",
       "35                  0.859120  0.880110  0.859120  0.880110\n",
       "36                  0.803663  0.649159  0.803663  0.649159\n",
       "37                  0.761803  0.749854  0.761803  0.749854\n",
       "38                  0.861107  0.877069  0.861107  0.877069\n",
       "39                  0.767639  0.659261  0.767639  0.659261\n",
       "Mean                0.787412  0.802835  0.787412  0.802835\n",
       "Standard Deviation  0.026016  0.079718  0.026016  0.079718"
      ]
     },
     "execution_count": 338,
     "metadata": {},
     "output_type": "execute_result"
    }
   ],
   "source": [
    "boots(X,y)"
   ]
  },
  {
   "cell_type": "markdown",
   "metadata": {},
   "source": [
    "### Inequality in Life Expectancy: "
   ]
  },
  {
   "cell_type": "code",
   "execution_count": 339,
   "metadata": {},
   "outputs": [],
   "source": [
    "X_test, y_test, X_train, y_train, X, y = createTestTrain(df,\"Human Development Index (2014)\",\"Inequality in Life Expectancy\")"
   ]
  },
  {
   "cell_type": "code",
   "execution_count": 340,
   "metadata": {
    "scrolled": true
   },
   "outputs": [
    {
     "name": "stdout",
     "output_type": "stream",
     "text": [
      "70.98595310378204 -76.91886026703824\n"
     ]
    },
    {
     "data": {
      "image/png": "[encoded data removed]",
      "text/plain": [
       "<Figure size 432x288 with 1 Axes>"
      ]
     },
     "metadata": {
      "needs_background": "light"
     },
     "output_type": "display_data"
    }
   ],
   "source": [
    "reg = LinearRegression().fit(X_train, y_train)\n",
    "b, m = reg.intercept_, *reg.coef_\n",
    "print(b, m)\n",
    "plotfig()"
   ]
  },
  {
   "cell_type": "code",
   "execution_count": 341,
   "metadata": {},
   "outputs": [
    {
     "name": "stdout",
     "output_type": "stream",
     "text": [
      "The training R2: 0.8936768748155204\n",
      "The testing R2: 0.8688891796967989\n"
     ]
    }
   ],
   "source": [
    "print('The training R2: {}'.format(reg.score(X_train, y_train)))\n",
    "print('The testing R2: {}'.format(reg.score(X_test, y_test)))"
   ]
  },
  {
   "cell_type": "code",
   "execution_count": 342,
   "metadata": {},
   "outputs": [],
   "source": [
    "filldata(whole_data,m,b,31)"
   ]
  },
  {
   "cell_type": "code",
   "execution_count": 343,
   "metadata": {},
   "outputs": [
    {
     "data": {
      "text/html": [
       "<div>\n",
       "<style scoped>\n",
       "    .dataframe tbody tr th:only-of-type {\n",
       "        vertical-align: middle;\n",
       "    }\n",
       "\n",
       "    .dataframe tbody tr th {\n",
       "        vertical-align: top;\n",
       "    }\n",
       "\n",
       "    .dataframe thead th {\n",
       "        text-align: right;\n",
       "    }\n",
       "</style>\n",
       "<table border=\"1\" class=\"dataframe\">\n",
       "  <thead>\n",
       "    <tr style=\"text-align: right;\">\n",
       "      <th></th>\n",
       "      <th>train_1</th>\n",
       "      <th>test_1</th>\n",
       "      <th>train_2</th>\n",
       "      <th>test_2</th>\n",
       "    </tr>\n",
       "  </thead>\n",
       "  <tbody>\n",
       "    <tr>\n",
       "      <td>0</td>\n",
       "      <td>0.868733</td>\n",
       "      <td>0.948314</td>\n",
       "      <td>0.868733</td>\n",
       "      <td>0.948314</td>\n",
       "    </tr>\n",
       "    <tr>\n",
       "      <td>1</td>\n",
       "      <td>0.894332</td>\n",
       "      <td>0.847853</td>\n",
       "      <td>0.894332</td>\n",
       "      <td>0.847853</td>\n",
       "    </tr>\n",
       "    <tr>\n",
       "      <td>2</td>\n",
       "      <td>0.906541</td>\n",
       "      <td>0.775301</td>\n",
       "      <td>0.906541</td>\n",
       "      <td>0.775301</td>\n",
       "    </tr>\n",
       "    <tr>\n",
       "      <td>3</td>\n",
       "      <td>0.890244</td>\n",
       "      <td>0.873089</td>\n",
       "      <td>0.890244</td>\n",
       "      <td>0.873089</td>\n",
       "    </tr>\n",
       "    <tr>\n",
       "      <td>4</td>\n",
       "      <td>0.881300</td>\n",
       "      <td>0.899715</td>\n",
       "      <td>0.881300</td>\n",
       "      <td>0.899715</td>\n",
       "    </tr>\n",
       "    <tr>\n",
       "      <td>Mean</td>\n",
       "      <td>0.888230</td>\n",
       "      <td>0.868854</td>\n",
       "      <td>0.888230</td>\n",
       "      <td>0.868854</td>\n",
       "    </tr>\n",
       "    <tr>\n",
       "      <td>Standard Deviation</td>\n",
       "      <td>0.012687</td>\n",
       "      <td>0.057406</td>\n",
       "      <td>0.012687</td>\n",
       "      <td>0.057406</td>\n",
       "    </tr>\n",
       "  </tbody>\n",
       "</table>\n",
       "</div>"
      ],
      "text/plain": [
       "                     train_1    test_1   train_2    test_2\n",
       "0                   0.868733  0.948314  0.868733  0.948314\n",
       "1                   0.894332  0.847853  0.894332  0.847853\n",
       "2                   0.906541  0.775301  0.906541  0.775301\n",
       "3                   0.890244  0.873089  0.890244  0.873089\n",
       "4                   0.881300  0.899715  0.881300  0.899715\n",
       "Mean                0.888230  0.868854  0.888230  0.868854\n",
       "Standard Deviation  0.012687  0.057406  0.012687  0.057406"
      ]
     },
     "execution_count": 343,
     "metadata": {},
     "output_type": "execute_result"
    }
   ],
   "source": [
    "crossVal(X,y)"
   ]
  },
  {
   "cell_type": "code",
   "execution_count": 344,
   "metadata": {},
   "outputs": [
    {
     "data": {
      "text/html": [
       "<div>\n",
       "<style scoped>\n",
       "    .dataframe tbody tr th:only-of-type {\n",
       "        vertical-align: middle;\n",
       "    }\n",
       "\n",
       "    .dataframe tbody tr th {\n",
       "        vertical-align: top;\n",
       "    }\n",
       "\n",
       "    .dataframe thead th {\n",
       "        text-align: right;\n",
       "    }\n",
       "</style>\n",
       "<table border=\"1\" class=\"dataframe\">\n",
       "  <thead>\n",
       "    <tr style=\"text-align: right;\">\n",
       "      <th></th>\n",
       "      <th>train_1</th>\n",
       "      <th>test_1</th>\n",
       "      <th>train_2</th>\n",
       "      <th>test_2</th>\n",
       "    </tr>\n",
       "  </thead>\n",
       "  <tbody>\n",
       "    <tr>\n",
       "      <td>32</td>\n",
       "      <td>0.864543</td>\n",
       "      <td>0.894663</td>\n",
       "      <td>0.864543</td>\n",
       "      <td>0.894663</td>\n",
       "    </tr>\n",
       "    <tr>\n",
       "      <td>33</td>\n",
       "      <td>0.874734</td>\n",
       "      <td>0.930697</td>\n",
       "      <td>0.874734</td>\n",
       "      <td>0.930697</td>\n",
       "    </tr>\n",
       "    <tr>\n",
       "      <td>34</td>\n",
       "      <td>0.872449</td>\n",
       "      <td>0.835880</td>\n",
       "      <td>0.872449</td>\n",
       "      <td>0.835880</td>\n",
       "    </tr>\n",
       "    <tr>\n",
       "      <td>35</td>\n",
       "      <td>0.885805</td>\n",
       "      <td>0.917240</td>\n",
       "      <td>0.885805</td>\n",
       "      <td>0.917240</td>\n",
       "    </tr>\n",
       "    <tr>\n",
       "      <td>36</td>\n",
       "      <td>0.857711</td>\n",
       "      <td>0.941754</td>\n",
       "      <td>0.857711</td>\n",
       "      <td>0.941754</td>\n",
       "    </tr>\n",
       "    <tr>\n",
       "      <td>37</td>\n",
       "      <td>0.919816</td>\n",
       "      <td>0.793738</td>\n",
       "      <td>0.919816</td>\n",
       "      <td>0.793738</td>\n",
       "    </tr>\n",
       "    <tr>\n",
       "      <td>38</td>\n",
       "      <td>0.916077</td>\n",
       "      <td>0.919224</td>\n",
       "      <td>0.916077</td>\n",
       "      <td>0.919224</td>\n",
       "    </tr>\n",
       "    <tr>\n",
       "      <td>39</td>\n",
       "      <td>0.884683</td>\n",
       "      <td>0.878860</td>\n",
       "      <td>0.884683</td>\n",
       "      <td>0.878860</td>\n",
       "    </tr>\n",
       "    <tr>\n",
       "      <td>Mean</td>\n",
       "      <td>0.869613</td>\n",
       "      <td>0.883707</td>\n",
       "      <td>0.869613</td>\n",
       "      <td>0.883707</td>\n",
       "    </tr>\n",
       "    <tr>\n",
       "      <td>Standard Deviation</td>\n",
       "      <td>0.007956</td>\n",
       "      <td>0.026306</td>\n",
       "      <td>0.007956</td>\n",
       "      <td>0.026306</td>\n",
       "    </tr>\n",
       "  </tbody>\n",
       "</table>\n",
       "</div>"
      ],
      "text/plain": [
       "                     train_1    test_1   train_2    test_2\n",
       "32                  0.864543  0.894663  0.864543  0.894663\n",
       "33                  0.874734  0.930697  0.874734  0.930697\n",
       "34                  0.872449  0.835880  0.872449  0.835880\n",
       "35                  0.885805  0.917240  0.885805  0.917240\n",
       "36                  0.857711  0.941754  0.857711  0.941754\n",
       "37                  0.919816  0.793738  0.919816  0.793738\n",
       "38                  0.916077  0.919224  0.916077  0.919224\n",
       "39                  0.884683  0.878860  0.884683  0.878860\n",
       "Mean                0.869613  0.883707  0.869613  0.883707\n",
       "Standard Deviation  0.007956  0.026306  0.007956  0.026306"
      ]
     },
     "execution_count": 344,
     "metadata": {},
     "output_type": "execute_result"
    }
   ],
   "source": [
    "boots(X,y)"
   ]
  },
  {
   "cell_type": "markdown",
   "metadata": {},
   "source": [
    "## mpi_data\n",
    "#### We need to find regression models for:\n",
    "- Population Below National Poverty Line\n",
    "- Population Below $1.25 per Day"
   ]
  },
  {
   "cell_type": "code",
   "execution_count": 345,
   "metadata": {},
   "outputs": [],
   "source": [
    "for column in mpi_data.columns:\n",
    "    df = mpi_data[pd.notna(mpi_data.loc[:,column])]\n",
    "    df = df.dropna()"
   ]
  },
  {
   "cell_type": "code",
   "execution_count": 362,
   "metadata": {},
   "outputs": [
    {
     "data": {
      "text/plain": [
       "12"
      ]
     },
     "execution_count": 362,
     "metadata": {},
     "output_type": "execute_result"
    }
   ],
   "source": [
    "mpi_data.columns.get_loc(\"Population Below $1.25 per Day\")"
   ]
  },
  {
   "cell_type": "markdown",
   "metadata": {},
   "source": [
    "### Population Below National Poverty Line"
   ]
  },
  {
   "cell_type": "code",
   "execution_count": 363,
   "metadata": {},
   "outputs": [],
   "source": [
    "X_test, y_test, X_train, y_train, X, y = createTestTrain(df,\"Multidimensional Poverty Index (MPI, HDRO)\",\"Population Below National Poverty Line\")"
   ]
  },
  {
   "cell_type": "code",
   "execution_count": 364,
   "metadata": {},
   "outputs": [
    {
     "name": "stdout",
     "output_type": "stream",
     "text": [
      "25.193857154497344 65.2280961635629\n"
     ]
    },
    {
     "data": {
      "image/png": "[encoded data removed]",
      "text/plain": [
       "<Figure size 432x288 with 1 Axes>"
      ]
     },
     "metadata": {
      "needs_background": "light"
     },
     "output_type": "display_data"
    }
   ],
   "source": [
    "reg = LinearRegression().fit(X_train, y_train)\n",
    "b, m = reg.intercept_, *reg.coef_\n",
    "print(b, m)\n",
    "plotfig()"
   ]
  },
  {
   "cell_type": "code",
   "execution_count": 365,
   "metadata": {},
   "outputs": [
    {
     "name": "stdout",
     "output_type": "stream",
     "text": [
      "The training R2: 0.33977150003366396\n",
      "The testing R2: 0.46191493859832766\n"
     ]
    }
   ],
   "source": [
    "print('The training R2: {}'.format(reg.score(X_train, y_train)))\n",
    "print('The testing R2: {}'.format(reg.score(X_test, y_test)))"
   ]
  },
  {
   "cell_type": "code",
   "execution_count": 366,
   "metadata": {},
   "outputs": [],
   "source": [
    "filldatampi(mpi_data, m, b, 11)"
   ]
  },
  {
   "cell_type": "code",
   "execution_count": 367,
   "metadata": {},
   "outputs": [
    {
     "data": {
      "text/html": [
       "<div>\n",
       "<style scoped>\n",
       "    .dataframe tbody tr th:only-of-type {\n",
       "        vertical-align: middle;\n",
       "    }\n",
       "\n",
       "    .dataframe tbody tr th {\n",
       "        vertical-align: top;\n",
       "    }\n",
       "\n",
       "    .dataframe thead th {\n",
       "        text-align: right;\n",
       "    }\n",
       "</style>\n",
       "<table border=\"1\" class=\"dataframe\">\n",
       "  <thead>\n",
       "    <tr style=\"text-align: right;\">\n",
       "      <th></th>\n",
       "      <th>train_1</th>\n",
       "      <th>test_1</th>\n",
       "      <th>train_2</th>\n",
       "      <th>test_2</th>\n",
       "    </tr>\n",
       "  </thead>\n",
       "  <tbody>\n",
       "    <tr>\n",
       "      <td>0</td>\n",
       "      <td>0.373579</td>\n",
       "      <td>0.363366</td>\n",
       "      <td>0.373579</td>\n",
       "      <td>0.363366</td>\n",
       "    </tr>\n",
       "    <tr>\n",
       "      <td>1</td>\n",
       "      <td>0.420049</td>\n",
       "      <td>0.067493</td>\n",
       "      <td>0.420049</td>\n",
       "      <td>0.067493</td>\n",
       "    </tr>\n",
       "    <tr>\n",
       "      <td>2</td>\n",
       "      <td>0.307617</td>\n",
       "      <td>0.508301</td>\n",
       "      <td>0.307617</td>\n",
       "      <td>0.508301</td>\n",
       "    </tr>\n",
       "    <tr>\n",
       "      <td>3</td>\n",
       "      <td>0.383546</td>\n",
       "      <td>0.336295</td>\n",
       "      <td>0.383546</td>\n",
       "      <td>0.336295</td>\n",
       "    </tr>\n",
       "    <tr>\n",
       "      <td>4</td>\n",
       "      <td>0.398990</td>\n",
       "      <td>0.263283</td>\n",
       "      <td>0.398990</td>\n",
       "      <td>0.263283</td>\n",
       "    </tr>\n",
       "    <tr>\n",
       "      <td>Mean</td>\n",
       "      <td>0.376756</td>\n",
       "      <td>0.307748</td>\n",
       "      <td>0.376756</td>\n",
       "      <td>0.307748</td>\n",
       "    </tr>\n",
       "    <tr>\n",
       "      <td>Standard Deviation</td>\n",
       "      <td>0.037961</td>\n",
       "      <td>0.144104</td>\n",
       "      <td>0.037961</td>\n",
       "      <td>0.144104</td>\n",
       "    </tr>\n",
       "  </tbody>\n",
       "</table>\n",
       "</div>"
      ],
      "text/plain": [
       "                     train_1    test_1   train_2    test_2\n",
       "0                   0.373579  0.363366  0.373579  0.363366\n",
       "1                   0.420049  0.067493  0.420049  0.067493\n",
       "2                   0.307617  0.508301  0.307617  0.508301\n",
       "3                   0.383546  0.336295  0.383546  0.336295\n",
       "4                   0.398990  0.263283  0.398990  0.263283\n",
       "Mean                0.376756  0.307748  0.376756  0.307748\n",
       "Standard Deviation  0.037961  0.144104  0.037961  0.144104"
      ]
     },
     "execution_count": 367,
     "metadata": {},
     "output_type": "execute_result"
    }
   ],
   "source": [
    "crossVal(X,y)"
   ]
  },
  {
   "cell_type": "code",
   "execution_count": 368,
   "metadata": {},
   "outputs": [
    {
     "data": {
      "text/html": [
       "<div>\n",
       "<style scoped>\n",
       "    .dataframe tbody tr th:only-of-type {\n",
       "        vertical-align: middle;\n",
       "    }\n",
       "\n",
       "    .dataframe tbody tr th {\n",
       "        vertical-align: top;\n",
       "    }\n",
       "\n",
       "    .dataframe thead th {\n",
       "        text-align: right;\n",
       "    }\n",
       "</style>\n",
       "<table border=\"1\" class=\"dataframe\">\n",
       "  <thead>\n",
       "    <tr style=\"text-align: right;\">\n",
       "      <th></th>\n",
       "      <th>train_1</th>\n",
       "      <th>test_1</th>\n",
       "      <th>train_2</th>\n",
       "      <th>test_2</th>\n",
       "    </tr>\n",
       "  </thead>\n",
       "  <tbody>\n",
       "    <tr>\n",
       "      <td>32</td>\n",
       "      <td>0.270719</td>\n",
       "      <td>0.423470</td>\n",
       "      <td>0.270719</td>\n",
       "      <td>0.423470</td>\n",
       "    </tr>\n",
       "    <tr>\n",
       "      <td>33</td>\n",
       "      <td>0.363626</td>\n",
       "      <td>0.366159</td>\n",
       "      <td>0.363626</td>\n",
       "      <td>0.366159</td>\n",
       "    </tr>\n",
       "    <tr>\n",
       "      <td>34</td>\n",
       "      <td>0.443786</td>\n",
       "      <td>0.139345</td>\n",
       "      <td>0.443786</td>\n",
       "      <td>0.139345</td>\n",
       "    </tr>\n",
       "    <tr>\n",
       "      <td>35</td>\n",
       "      <td>0.532770</td>\n",
       "      <td>-0.244158</td>\n",
       "      <td>0.532770</td>\n",
       "      <td>-0.244158</td>\n",
       "    </tr>\n",
       "    <tr>\n",
       "      <td>36</td>\n",
       "      <td>0.360144</td>\n",
       "      <td>0.106828</td>\n",
       "      <td>0.360144</td>\n",
       "      <td>0.106828</td>\n",
       "    </tr>\n",
       "    <tr>\n",
       "      <td>37</td>\n",
       "      <td>0.323196</td>\n",
       "      <td>0.198302</td>\n",
       "      <td>0.323196</td>\n",
       "      <td>0.198302</td>\n",
       "    </tr>\n",
       "    <tr>\n",
       "      <td>38</td>\n",
       "      <td>0.191729</td>\n",
       "      <td>0.408765</td>\n",
       "      <td>0.191729</td>\n",
       "      <td>0.408765</td>\n",
       "    </tr>\n",
       "    <tr>\n",
       "      <td>39</td>\n",
       "      <td>0.671476</td>\n",
       "      <td>-0.070182</td>\n",
       "      <td>0.671476</td>\n",
       "      <td>-0.070182</td>\n",
       "    </tr>\n",
       "    <tr>\n",
       "      <td>Mean</td>\n",
       "      <td>0.398294</td>\n",
       "      <td>0.314528</td>\n",
       "      <td>0.398294</td>\n",
       "      <td>0.314528</td>\n",
       "    </tr>\n",
       "    <tr>\n",
       "      <td>Standard Deviation</td>\n",
       "      <td>0.109271</td>\n",
       "      <td>0.187558</td>\n",
       "      <td>0.109271</td>\n",
       "      <td>0.187558</td>\n",
       "    </tr>\n",
       "  </tbody>\n",
       "</table>\n",
       "</div>"
      ],
      "text/plain": [
       "                     train_1    test_1   train_2    test_2\n",
       "32                  0.270719  0.423470  0.270719  0.423470\n",
       "33                  0.363626  0.366159  0.363626  0.366159\n",
       "34                  0.443786  0.139345  0.443786  0.139345\n",
       "35                  0.532770 -0.244158  0.532770 -0.244158\n",
       "36                  0.360144  0.106828  0.360144  0.106828\n",
       "37                  0.323196  0.198302  0.323196  0.198302\n",
       "38                  0.191729  0.408765  0.191729  0.408765\n",
       "39                  0.671476 -0.070182  0.671476 -0.070182\n",
       "Mean                0.398294  0.314528  0.398294  0.314528\n",
       "Standard Deviation  0.109271  0.187558  0.109271  0.187558"
      ]
     },
     "execution_count": 368,
     "metadata": {},
     "output_type": "execute_result"
    }
   ],
   "source": [
    "boots(X,y)"
   ]
  },
  {
   "cell_type": "markdown",
   "metadata": {},
   "source": [
    "### Population Below 1.25 per Day:"
   ]
  },
  {
   "cell_type": "code",
   "execution_count": 369,
   "metadata": {},
   "outputs": [],
   "source": [
    "X_test, y_test, X_train, y_train, X,y = createTestTrain(df,\"Multidimensional Poverty Index (MPI, HDRO)\",\"Population Below $1.25 per Day\")"
   ]
  },
  {
   "cell_type": "code",
   "execution_count": 372,
   "metadata": {},
   "outputs": [
    {
     "name": "stdout",
     "output_type": "stream",
     "text": [
      "3.9393547585648925 109.82512675216336\n"
     ]
    },
    {
     "data": {
      "image/png": "[encoded data removed]",
      "text/plain": [
       "<Figure size 432x288 with 1 Axes>"
      ]
     },
     "metadata": {
      "needs_background": "light"
     },
     "output_type": "display_data"
    }
   ],
   "source": [
    "reg = LinearRegression().fit(X_train, y_train)\n",
    "b, m = reg.intercept_, *reg.coef_\n",
    "print(b, m)\n",
    "plotfig()"
   ]
  },
  {
   "cell_type": "code",
   "execution_count": 373,
   "metadata": {},
   "outputs": [
    {
     "name": "stdout",
     "output_type": "stream",
     "text": [
      "The training R2: 0.6752940046682944\n",
      "The testing R2: 0.5310550917608874\n"
     ]
    }
   ],
   "source": [
    "print('The training R2: {}'.format(reg.score(X_train, y_train)))\n",
    "print('The testing R2: {}'.format(reg.score(X_test, y_test)))"
   ]
  },
  {
   "cell_type": "code",
   "execution_count": 374,
   "metadata": {},
   "outputs": [],
   "source": [
    "filldatampi(mpi_data, m, b, 12)"
   ]
  },
  {
   "cell_type": "code",
   "execution_count": 375,
   "metadata": {},
   "outputs": [
    {
     "data": {
      "text/html": [
       "<div>\n",
       "<style scoped>\n",
       "    .dataframe tbody tr th:only-of-type {\n",
       "        vertical-align: middle;\n",
       "    }\n",
       "\n",
       "    .dataframe tbody tr th {\n",
       "        vertical-align: top;\n",
       "    }\n",
       "\n",
       "    .dataframe thead th {\n",
       "        text-align: right;\n",
       "    }\n",
       "</style>\n",
       "<table border=\"1\" class=\"dataframe\">\n",
       "  <thead>\n",
       "    <tr style=\"text-align: right;\">\n",
       "      <th></th>\n",
       "      <th>train_1</th>\n",
       "      <th>test_1</th>\n",
       "      <th>train_2</th>\n",
       "      <th>test_2</th>\n",
       "    </tr>\n",
       "  </thead>\n",
       "  <tbody>\n",
       "    <tr>\n",
       "      <td>0</td>\n",
       "      <td>0.653751</td>\n",
       "      <td>0.596801</td>\n",
       "      <td>0.653751</td>\n",
       "      <td>0.596801</td>\n",
       "    </tr>\n",
       "    <tr>\n",
       "      <td>1</td>\n",
       "      <td>0.618771</td>\n",
       "      <td>0.673944</td>\n",
       "      <td>0.618771</td>\n",
       "      <td>0.673944</td>\n",
       "    </tr>\n",
       "    <tr>\n",
       "      <td>2</td>\n",
       "      <td>0.653755</td>\n",
       "      <td>0.618217</td>\n",
       "      <td>0.653755</td>\n",
       "      <td>0.618217</td>\n",
       "    </tr>\n",
       "    <tr>\n",
       "      <td>3</td>\n",
       "      <td>0.709729</td>\n",
       "      <td>0.206650</td>\n",
       "      <td>0.709729</td>\n",
       "      <td>0.206650</td>\n",
       "    </tr>\n",
       "    <tr>\n",
       "      <td>4</td>\n",
       "      <td>0.624369</td>\n",
       "      <td>0.746493</td>\n",
       "      <td>0.624369</td>\n",
       "      <td>0.746493</td>\n",
       "    </tr>\n",
       "    <tr>\n",
       "      <td>Mean</td>\n",
       "      <td>0.652075</td>\n",
       "      <td>0.568421</td>\n",
       "      <td>0.652075</td>\n",
       "      <td>0.568421</td>\n",
       "    </tr>\n",
       "    <tr>\n",
       "      <td>Standard Deviation</td>\n",
       "      <td>0.032269</td>\n",
       "      <td>0.188153</td>\n",
       "      <td>0.032269</td>\n",
       "      <td>0.188153</td>\n",
       "    </tr>\n",
       "  </tbody>\n",
       "</table>\n",
       "</div>"
      ],
      "text/plain": [
       "                     train_1    test_1   train_2    test_2\n",
       "0                   0.653751  0.596801  0.653751  0.596801\n",
       "1                   0.618771  0.673944  0.618771  0.673944\n",
       "2                   0.653755  0.618217  0.653755  0.618217\n",
       "3                   0.709729  0.206650  0.709729  0.206650\n",
       "4                   0.624369  0.746493  0.624369  0.746493\n",
       "Mean                0.652075  0.568421  0.652075  0.568421\n",
       "Standard Deviation  0.032269  0.188153  0.032269  0.188153"
      ]
     },
     "execution_count": 375,
     "metadata": {},
     "output_type": "execute_result"
    }
   ],
   "source": [
    "crossVal(X,y)"
   ]
  },
  {
   "cell_type": "code",
   "execution_count": 376,
   "metadata": {},
   "outputs": [
    {
     "data": {
      "text/html": [
       "<div>\n",
       "<style scoped>\n",
       "    .dataframe tbody tr th:only-of-type {\n",
       "        vertical-align: middle;\n",
       "    }\n",
       "\n",
       "    .dataframe tbody tr th {\n",
       "        vertical-align: top;\n",
       "    }\n",
       "\n",
       "    .dataframe thead th {\n",
       "        text-align: right;\n",
       "    }\n",
       "</style>\n",
       "<table border=\"1\" class=\"dataframe\">\n",
       "  <thead>\n",
       "    <tr style=\"text-align: right;\">\n",
       "      <th></th>\n",
       "      <th>train_1</th>\n",
       "      <th>test_1</th>\n",
       "      <th>train_2</th>\n",
       "      <th>test_2</th>\n",
       "    </tr>\n",
       "  </thead>\n",
       "  <tbody>\n",
       "    <tr>\n",
       "      <td>32</td>\n",
       "      <td>0.706143</td>\n",
       "      <td>0.858214</td>\n",
       "      <td>0.706143</td>\n",
       "      <td>0.858214</td>\n",
       "    </tr>\n",
       "    <tr>\n",
       "      <td>33</td>\n",
       "      <td>0.647499</td>\n",
       "      <td>0.681559</td>\n",
       "      <td>0.647499</td>\n",
       "      <td>0.681559</td>\n",
       "    </tr>\n",
       "    <tr>\n",
       "      <td>34</td>\n",
       "      <td>0.589791</td>\n",
       "      <td>0.587095</td>\n",
       "      <td>0.589791</td>\n",
       "      <td>0.587095</td>\n",
       "    </tr>\n",
       "    <tr>\n",
       "      <td>35</td>\n",
       "      <td>0.689361</td>\n",
       "      <td>0.733636</td>\n",
       "      <td>0.689361</td>\n",
       "      <td>0.733636</td>\n",
       "    </tr>\n",
       "    <tr>\n",
       "      <td>36</td>\n",
       "      <td>0.661053</td>\n",
       "      <td>0.724812</td>\n",
       "      <td>0.661053</td>\n",
       "      <td>0.724812</td>\n",
       "    </tr>\n",
       "    <tr>\n",
       "      <td>37</td>\n",
       "      <td>0.689945</td>\n",
       "      <td>0.753679</td>\n",
       "      <td>0.689945</td>\n",
       "      <td>0.753679</td>\n",
       "    </tr>\n",
       "    <tr>\n",
       "      <td>38</td>\n",
       "      <td>0.747343</td>\n",
       "      <td>0.443788</td>\n",
       "      <td>0.747343</td>\n",
       "      <td>0.443788</td>\n",
       "    </tr>\n",
       "    <tr>\n",
       "      <td>39</td>\n",
       "      <td>0.695139</td>\n",
       "      <td>0.444013</td>\n",
       "      <td>0.695139</td>\n",
       "      <td>0.444013</td>\n",
       "    </tr>\n",
       "    <tr>\n",
       "      <td>Mean</td>\n",
       "      <td>0.686820</td>\n",
       "      <td>0.382030</td>\n",
       "      <td>0.686820</td>\n",
       "      <td>0.382030</td>\n",
       "    </tr>\n",
       "    <tr>\n",
       "      <td>Standard Deviation</td>\n",
       "      <td>0.024683</td>\n",
       "      <td>0.300621</td>\n",
       "      <td>0.024683</td>\n",
       "      <td>0.300621</td>\n",
       "    </tr>\n",
       "  </tbody>\n",
       "</table>\n",
       "</div>"
      ],
      "text/plain": [
       "                     train_1    test_1   train_2    test_2\n",
       "32                  0.706143  0.858214  0.706143  0.858214\n",
       "33                  0.647499  0.681559  0.647499  0.681559\n",
       "34                  0.589791  0.587095  0.589791  0.587095\n",
       "35                  0.689361  0.733636  0.689361  0.733636\n",
       "36                  0.661053  0.724812  0.661053  0.724812\n",
       "37                  0.689945  0.753679  0.689945  0.753679\n",
       "38                  0.747343  0.443788  0.747343  0.443788\n",
       "39                  0.695139  0.444013  0.695139  0.444013\n",
       "Mean                0.686820  0.382030  0.686820  0.382030\n",
       "Standard Deviation  0.024683  0.300621  0.024683  0.300621"
      ]
     },
     "execution_count": 376,
     "metadata": {},
     "output_type": "execute_result"
    }
   ],
   "source": [
    "boots(X,y)"
   ]
  },
  {
   "cell_type": "code",
   "execution_count": null,
   "metadata": {},
   "outputs": [],
   "source": []
  }
 ],
 "metadata": {
  "kernelspec": {
   "display_name": "Python 3",
   "language": "python",
   "name": "python3"
  },
  "language_info": {
   "codemirror_mode": {
    "name": "ipython",
    "version": 3
   },
   "file_extension": ".py",
   "mimetype": "text/x-python",
   "name": "python",
   "nbconvert_exporter": "python",
   "pygments_lexer": "ipython3",
   "version": "3.7.4"
  }
 },
 "nbformat": 4,
 "nbformat_minor": 2
}
